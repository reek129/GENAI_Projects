{
 "cells": [
  {
   "cell_type": "markdown",
   "id": "4fd73caf",
   "metadata": {},
   "source": [
    "# Pydantic model to create a structured LLM output"
   ]
  },
  {
   "cell_type": "markdown",
   "id": "83f0bb4c",
   "metadata": {},
   "source": [
    "## Approach 1"
   ]
  },
  {
   "cell_type": "code",
   "execution_count": null,
   "id": "b0d44271",
   "metadata": {},
   "outputs": [
    {
     "data": {
      "text/plain": [
       "Country(name='France', language='French', capital='Paris')"
      ]
     },
     "execution_count": 1,
     "metadata": {},
     "output_type": "execute_result"
    }
   ],
   "source": [
    "from pydantic import BaseModel, Field\n",
    "from langchain_openai import ChatOpenAI\n",
    "\n",
    "llm = ChatOpenAI(model=\"gpt-3.5-turbo\")\n",
    "\n",
    "class Country(BaseModel):\n",
    "    \"\"\"Information about a country\"\"\"\n",
    "    name: str = Field(description=\"name of the country\")\n",
    "    language: str = Field(description=\"language of the country\")\n",
    "    capital: str = Field(description=\"Capital of the country\")\n",
    "\n",
    "structured_llm = llm.with_structured_output(Country)\n",
    "structured_llm.invoke(\"Tell me about France\")\n"
   ]
  },
  {
   "cell_type": "code",
   "execution_count": 2,
   "id": "86e7d637",
   "metadata": {},
   "outputs": [
    {
     "data": {
      "text/plain": [
       "RunnableBinding(bound=ChatOpenAI(client=<openai.resources.chat.completions.completions.Completions object at 0x000001F390CC46A0>, async_client=<openai.resources.chat.completions.completions.AsyncCompletions object at 0x000001F390CD5820>, root_client=<openai.OpenAI object at 0x000001F390A9FF10>, root_async_client=<openai.AsyncOpenAI object at 0x000001F390CC4700>, model_name='gpt-4o', model_kwargs={}, openai_api_key=SecretStr('**********')), kwargs={'response_format': <class '__main__.Country'>, 'structured_output_format': {'kwargs': {'method': 'json_schema'}, 'schema': {'type': 'function', 'function': {'name': 'Country', 'description': 'Information about a country', 'parameters': {'properties': {'name': {'description': 'name of the country', 'type': 'string'}, 'language': {'description': 'language of the country', 'type': 'string'}, 'capital': {'description': 'Capital of the country', 'type': 'string'}}, 'required': ['name', 'language', 'capital'], 'type': 'object'}}}}}, config={}, config_factories=[])\n",
       "| RunnableBinding(bound=RunnableLambda(_oai_structured_outputs_parser), kwargs={}, config={}, config_factories=[], custom_output_type=<class '__main__.Country'>)"
      ]
     },
     "execution_count": 2,
     "metadata": {},
     "output_type": "execute_result"
    }
   ],
   "source": [
    "structured_llm"
   ]
  },
  {
   "cell_type": "markdown",
   "id": "3ad82342",
   "metadata": {},
   "source": [
    "# If we don't want validation just need the schema --> go for TypedDict"
   ]
  },
  {
   "cell_type": "markdown",
   "id": "e7df235e",
   "metadata": {},
   "source": [
    "## Approach 2"
   ]
  },
  {
   "cell_type": "code",
   "execution_count": 3,
   "id": "2e2901db",
   "metadata": {},
   "outputs": [
    {
     "data": {
      "text/plain": [
       "{'setup': \"Why don't scientists trust atoms?\",\n",
       " 'punchline': 'Because they make up everything!',\n",
       " 'rating': 8}"
      ]
     },
     "execution_count": 3,
     "metadata": {},
     "output_type": "execute_result"
    }
   ],
   "source": [
    "from typing_extensions import Annotated, TypedDict\n",
    "from typing import Optional\n",
    "\n",
    "class Joke(TypedDict):\n",
    "    \"\"\"Joke to tell user.\"\"\"\n",
    "\n",
    "    setup: Annotated[str, ..., \"The setup of the joke\"]\n",
    "    punchline: Annotated[str, ..., \"The punchline of the joke\"]\n",
    "    rating: Annotated[Optional[int], None, \"How funny the joke is, from 1 to 10\"]\n",
    "\n",
    "structured_llm = llm.with_structured_output(Joke)\n",
    "structured_llm.invoke(\"Tell me a joke\")"
   ]
  },
  {
   "cell_type": "markdown",
   "id": "3c8a1d8b",
   "metadata": {},
   "source": [
    "## Approach 3"
   ]
  },
  {
   "cell_type": "code",
   "execution_count": 4,
   "id": "c48e889e",
   "metadata": {},
   "outputs": [
    {
     "data": {
      "text/plain": [
       "{'setup': 'Why was the cat sitting on the computer?',\n",
       " 'punchline': 'It wanted to keep an eye on the mouse!',\n",
       " 'rating': 8}"
      ]
     },
     "execution_count": 4,
     "metadata": {},
     "output_type": "execute_result"
    }
   ],
   "source": [
    "json_schema = {\n",
    "    \"title\": \"joke\",\n",
    "    \"description\": \"Joke to tell user.\",\n",
    "    \"type\": \"object\",\n",
    "    \"properties\": {\n",
    "        \"setup\": {\n",
    "            \"type\": \"string\",\n",
    "            \"description\": \"The setup of the joke\",\n",
    "        },\n",
    "        \"punchline\": {\n",
    "            \"type\": \"string\",\n",
    "            \"description\": \"The punchline to the joke\",\n",
    "        },\n",
    "        \"rating\": {\n",
    "            \"type\": \"integer\",\n",
    "            \"description\": \"How funny the joke is, from 1 to 10\",\n",
    "            \"default\": None,\n",
    "        },\n",
    "    },\n",
    "    \"required\": [\"setup\", \"punchline\"],\n",
    "}\n",
    "\n",
    "structured_llm = llm.with_structured_output(json_schema)\n",
    "structured_llm.invoke(\"Tell me a joke about cats\")\n"
   ]
  },
  {
   "cell_type": "code",
   "execution_count": null,
   "id": "ed702364",
   "metadata": {},
   "outputs": [],
   "source": []
  }
 ],
 "metadata": {
  "kernelspec": {
   "display_name": "LLMs",
   "language": "python",
   "name": "python3"
  },
  "language_info": {
   "codemirror_mode": {
    "name": "ipython",
    "version": 3
   },
   "file_extension": ".py",
   "mimetype": "text/x-python",
   "name": "python",
   "nbconvert_exporter": "python",
   "pygments_lexer": "ipython3",
   "version": "3.9.21"
  }
 },
 "nbformat": 4,
 "nbformat_minor": 5
}
