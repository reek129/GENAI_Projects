{
 "cells": [
  {
   "cell_type": "code",
   "execution_count": 1,
   "id": "7f7907d8",
   "metadata": {},
   "outputs": [],
   "source": [
    "from dotenv import load_dotenv\n",
    "import os\n",
    "import openai\n",
    "\n",
    "\n",
    "load_dotenv()\n",
    "OPENAI_API_KEY = os.getenv(\"OPENAI_API_KEY\")"
   ]
  },
  {
   "cell_type": "code",
   "execution_count": 2,
   "id": "d93e797d",
   "metadata": {},
   "outputs": [],
   "source": [
    "from openai import OpenAI\n",
    "import pandas as pd"
   ]
  },
  {
   "cell_type": "code",
   "execution_count": 3,
   "id": "666876bc",
   "metadata": {},
   "outputs": [
    {
     "name": "stdout",
     "output_type": "stream",
     "text": [
      "ChatCompletion(id='chatcmpl-BiYAzWqrQ6T7eH6bQoCs2M0RLypVE', choices=[Choice(finish_reason='stop', index=0, logprobs=None, message=ChatCompletionMessage(content=\"I'm here and ready to assist you. How can I help you today?\", refusal=None, role='assistant', audio=None, function_call=None, tool_calls=None, annotations=[]))], created=1749957505, model='gpt-3.5-turbo-0125', object='chat.completion', service_tier='default', system_fingerprint=None, usage=CompletionUsage(completion_tokens=16, prompt_tokens=21, total_tokens=37, completion_tokens_details=CompletionTokensDetails(accepted_prediction_tokens=0, audio_tokens=0, reasoning_tokens=0, rejected_prediction_tokens=0), prompt_tokens_details=PromptTokensDetails(audio_tokens=0, cached_tokens=0)))\n",
      "I'm here and ready to assist you. How can I help you today?\n"
     ]
    }
   ],
   "source": [
    "prompt = \"How are you?\"\n",
    "client = OpenAI(api_key=OPENAI_API_KEY)\n",
    "response = client.chat.completions.create(\n",
    "    model = \"gpt-3.5-turbo\",\n",
    "    messages =[\n",
    "        {\"role\":\"system\",\"content\":\"You are a helpful assistant.\"},\n",
    "        {\"role\":\"user\",\"content\":prompt}\n",
    "    ]\n",
    ")\n",
    "print(response)\n",
    "print(response.choices[0].message.content)"
   ]
  },
  {
   "cell_type": "markdown",
   "id": "3de3bc93",
   "metadata": {},
   "source": [
    "# RAPID api"
   ]
  },
  {
   "cell_type": "code",
   "execution_count": 6,
   "id": "54996232",
   "metadata": {},
   "outputs": [],
   "source": [
    "# !pip install requests"
   ]
  },
  {
   "cell_type": "code",
   "execution_count": 7,
   "id": "159d98a2",
   "metadata": {},
   "outputs": [],
   "source": [
    "import requests\n",
    "def get_current_weather(location):\n",
    "    \"\"\"Get the current weather in a given location\"\"\"\n",
    "\n",
    "    url = \"https://ai-weather-by-meteosource.p.rapidapi.com/find_places\"\n",
    "\n",
    "    querystring = {\"text\":location}\n",
    "\n",
    "    headers = {\n",
    "      'x-rapidapi-key': \"156877d1e1msh6806b57dfec44b9p1bd2c8jsn796f2ff15790\",\n",
    "      'x-rapidapi-host': \"ai-weather-by-meteosource.p.rapidapi.com\"\n",
    "    }\n",
    "\n",
    "    response = requests.get(url, headers=headers, params=querystring)\n",
    "\n",
    "    print(response.json())\n",
    "  \n",
    "    return response.json()"
   ]
  },
  {
   "cell_type": "code",
   "execution_count": 8,
   "id": "49f2b119",
   "metadata": {},
   "outputs": [
    {
     "name": "stdout",
     "output_type": "stream",
     "text": [
      "[{'name': 'Clemson', 'place_id': 'clemson', 'adm_area1': 'South Carolina', 'adm_area2': 'Pickens', 'country': 'United States of America', 'lat': '34.68344N', 'lon': '82.83737W', 'timezone': 'America/New_York', 'type': 'settlement'}, {'name': 'Clemson Forest', 'place_id': 'clemson-forest-4574968', 'adm_area1': 'South Carolina', 'adm_area2': 'Oconee', 'country': 'United States of America', 'lat': '34.66955N', 'lon': '82.87987W', 'timezone': 'America/New_York', 'type': 'settlement'}, {'name': 'Clemson Terrace', 'place_id': 'clemson-terrace-4574975', 'adm_area1': 'South Carolina', 'adm_area2': 'Dorchester', 'country': 'United States of America', 'lat': '33.05017N', 'lon': '80.20065W', 'timezone': 'America/New_York', 'type': 'settlement'}, {'name': 'Clemson Gardens', 'place_id': 'clemson-gardens-4574969', 'adm_area1': 'South Carolina', 'adm_area2': 'Pickens', 'country': 'United States of America', 'lat': '34.68427N', 'lon': '82.81042W', 'timezone': 'America/New_York', 'type': 'settlement'}, {'name': 'Clemson Heights', 'place_id': 'clemson-heights-4574970', 'adm_area1': 'South Carolina', 'adm_area2': 'Pickens', 'country': 'United States of America', 'lat': '34.66455N', 'lon': '82.83875W', 'timezone': 'America/New_York', 'type': 'settlement'}, {'name': 'City of Clemson', 'place_id': 'city-of-clemson', 'adm_area1': 'South Carolina', 'adm_area2': 'Pickens', 'country': 'United States of America', 'lat': '34.68403N', 'lon': '82.81232W', 'timezone': 'America/New_York', 'type': 'administrative_area'}, {'name': 'Clemson Park', 'place_id': 'clemson-park', 'adm_area1': 'New York', 'adm_area2': 'Orange', 'country': 'United States of America', 'lat': '41.45611N', 'lon': '74.42167W', 'timezone': 'America/New_York', 'type': 'park'}, {'name': 'Clemson Island', 'place_id': 'clemson-island', 'adm_area1': 'Pennsylvania', 'adm_area2': 'Dauphin County', 'country': 'United States of America', 'lat': '40.47064N', 'lon': '76.94331W', 'timezone': 'America/New_York', 'type': 'island'}, {'name': 'Clemson University Pond Dam D-3113', 'place_id': 'clemson-university-pond-dam-d3113', 'adm_area1': 'South Carolina', 'adm_area2': 'Anderson', 'country': 'United States of America', 'lat': '34.62844N', 'lon': '82.72153W', 'timezone': 'America/New_York', 'type': 'dam'}, {'name': 'Clemson University Historic District', 'place_id': 'clemson-university-historic-district', 'adm_area1': 'South Carolina', 'adm_area2': 'Pickens', 'country': 'United States of America', 'lat': '34.67788N', 'lon': '82.83875W', 'timezone': 'America/New_York', 'type': 'park'}]\n"
     ]
    }
   ],
   "source": [
    "response = get_current_weather(\"Clemson\")"
   ]
  },
  {
   "cell_type": "code",
   "execution_count": 12,
   "id": "0dbb1931",
   "metadata": {},
   "outputs": [],
   "source": [
    "def get_jobs_today(job,location):\n",
    "\n",
    "\n",
    "    # url = \"active-jobs-db.p.rapidapi.com/active-ats-7d\"\n",
    "    # url = \"active-jobs-db.p.rapidapi.com/active-ats-7d\"\n",
    "    url = \"https://active-jobs-db.p.rapidapi.com/active-ats-7d\"\n",
    "\n",
    "\n",
    "\n",
    "    querystring = {\n",
    "        \"limit\": \"10\",\n",
    "        \"offset\": \"0\",\n",
    "        \"title_filter\": job,  # example: \"Data Engineer\"\n",
    "        \"location_filter\": location,  # can be adjusted\n",
    "        \"description_type\": \"text\"\n",
    "    }\n",
    "\n",
    "    headers = {\n",
    "        \"x-rapidapi-key\": \"4b4f52a5f5mshbc6b6ff01dc9a8fp136a76jsnadcd4069a057\",\n",
    "        \"x-rapidapi-host\": \"active-jobs-db.p.rapidapi.com\"\n",
    "    }\n",
    "\n",
    "    response = requests.get(url, headers=headers, params=querystring)\n",
    "\n",
    "    print(response.json())\n",
    "  \n",
    "    return response.json()"
   ]
  },
  {
   "cell_type": "code",
   "execution_count": 13,
   "id": "23838a7f",
   "metadata": {},
   "outputs": [
    {
     "name": "stdout",
     "output_type": "stream",
     "text": [
      "[{'id': '1737466174', 'date_posted': '2025-06-14T03:55:44', 'date_created': '2025-06-14T04:17:21.872236', 'title': 'Lead Data Scientist', 'organization': 'Upgrade', 'organization_url': None, 'date_validthrough': None, 'locations_raw': [{'@type': 'Place', 'name': 'United States (Remote)', 'address': {'@type': 'PostalAddress', 'name': 'United States (Remote)', 'addressCountry': '', 'addressLocality': 'United States (Remote)'}}], 'locations_alt_raw': None, 'location_type': None, 'location_requirements_raw': None, 'salary_raw': None, 'employment_type': None, 'url': 'https://job-boards.greenhouse.io/upgrade/jobs/4576482005', 'source_type': 'ats', 'source': 'greenhouse', 'source_domain': 'job-boards.greenhouse.io', 'organization_logo': None, 'cities_derived': None, 'regions_derived': None, 'countries_derived': ['United States'], 'locations_derived': ['United States'], 'timezones_derived': ['America/New_York'], 'lats_derived': [38.9047], 'lngs_derived': [-77.0163], 'remote_derived': True, 'domain_derived': 'upgrade.com', 'description_text': 'Upgrade is a fintech company that provides affordable and responsible credit, mobile banking, and payment products to everyday consumers. We were the fastest growing company in the Americas last year according to the Financial Times and Upgrade Card was the fastest growing credit card in America two years in a row. We have delivered over $33 billion in affordable and responsible credit to our 5.5M customers. The company is backed by some of the most prominent technology investors and was recently valued at $6.3B.\\nWe have built an energizing, collaborative and inclusive culture where team members help each other, learn and innovate to move the company and its customers in the right direction, and own the outcome of their efforts.\\nUpgrade has been named a “Best Place to Work in the Bay Area” three years in a row, “Top Companies to work for in Arizona” and one of the \"Best Engineering Department\" awarded annually by Comparably. We\\'ve also received recognition for being a best company for Diversity, Women, Culture, and Veterans.\\nWe are looking for new team members who get excited about designing and delivering new and better products to join a team of 1850 talented and dedicated professionals. Come work with us if you like to tackle big problems and make a meaningful difference in people\\'s lives.\\nAbout the Role:\\nWe are seeking a highly analytical and results-driven team member to join our growing data science team in the financial services sector. You will play a key role in developing and implementing predictive machine learning /AI models, leading data-driven decision-making processes, managing data science projects from conception to deployment, and extracting insights that drive product development, risk mitigation, and customer strategy. This role requires a strong foundation in statistics, machine learning, and financial domain knowledge. \\nWhat You’ll Do:\\nBuild and deploy ML/AI models to solve business problems in areas like prospect targeting, credit risk, fraud detection, pricing, verification and loss forecasting. \\nAnalyze large, structured and unstructured datasets using SQL, Python or similar tools.\\nEvaluate existing customer data, new third party or alternative data to enhance the feature list and work with data engineering and analytics teams to build scalable and durable feature engineering process. \\nStay up to date with the latest trends and technologies in data science and fintech, actively research new tools and techniques available for model development.\\nCollaborate with cross-functional teams including risk, marketing, product, and engineering to define data-driven strategies.\\n\\nWhat We Look For:\\nAdvanced Degree (MS/PhD) in Data Science, Engineering, Statistics, Mathematics, Computer Science, or a related quantitative discipline.\\n5-10 years of hands-on experience in a data science or analytics role, preferably in financial services. \\nStrong proficiency in Python (Pandas, Numpy, Scikit-learn) and SQL.\\nAbility to write documentation and present analysis to people with different levels of expertise (e.g., technical staff, business leads, etc.).\\nDetail oriented and strong analytical skill set.\\nProactive, driven, and ability to work in a fast-paced environment.\\nNice to Have:\\nExperience in credit risk modeling \\nDesign and maintain end-to-end CICD pipelines (using Kubernetes or GitHub action or other tools) including continuous integration, deployment, and monitoring. Automate model training, evaluation, and deployment workflows\\nLead end-to-end machine learning and data science product from conception to development \\nExperience working with cloud platforms (AWS, GCP, or Azure).\\nKnowledge of big data technologies like Spark or Hadoop.\\nUnderstanding of financial services concepts such as credit scoring, portfolio risk, or customer lifetime value.\\nWhat We Offer You: \\nCompetitive salary and stock option plan\\n100% paid coverage of medical, dental and vision insurance \\nCompetitive 401(k) and RRSP program \\nFlexible PTO\\nOpportunities for professional growth and development \\nPaid parental leave\\nHealth & wellness initiatives\\nWe are an equal opportunity employer and value diversity at our company. We do not discriminate on the basis of race, religion, color, national origin, gender, sexual orientation, age, marital status, veteran status, or disability status. \\nUpgrade does not accept unsolicited resumes from staffing agencies, search firms, or any third parties. Any resume submitted to any employee of Upgrade without a prior written agreement in place will be considered the property of Upgrade, and Upgrade will not be obligated to pay any referral or placement fee. Agencies must obtain advance written approval from Upgrade\\'s Talent Acquisition department to submit resumes and only in conjunction with a valid, fully executed agreement.'}, {'id': '1736942727', 'date_posted': '2025-06-13T22:49:57', 'date_created': '2025-06-13T23:09:36.343266', 'title': 'Staff Data Scientist, Notifications', 'organization': 'Pinterest', 'organization_url': None, 'date_validthrough': None, 'locations_raw': [{'@type': 'Place', 'name': 'San Francisco, CA, US', 'address': {'@type': 'PostalAddress', 'name': 'San Francisco, CA, US', 'addressCountry': '', 'addressLocality': 'San Francisco, CA, US'}}, {'@type': 'Place', 'name': 'Remote, US', 'address': {'@type': 'PostalAddress', 'name': 'Remote, US', 'addressCountry': '', 'addressLocality': 'Remote, US'}}], 'locations_alt_raw': None, 'location_type': None, 'location_requirements_raw': None, 'salary_raw': None, 'employment_type': None, 'url': 'https://www.pinterestcareers.com/job-form?gh_jid=6946946', 'source_type': 'ats', 'source': 'greenhouse', 'source_domain': 'www.pinterestcareers.com', 'organization_logo': None, 'cities_derived': ['San Francisco'], 'regions_derived': ['California'], 'countries_derived': ['United States', 'United States'], 'locations_derived': ['San Francisco, California, United States', 'United States'], 'timezones_derived': ['America/Los_Angeles', 'America/New_York'], 'lats_derived': [37.7558, 38.9047], 'lngs_derived': [-122.4449, -77.0163], 'remote_derived': True, 'domain_derived': 'pinterest.com', 'description_text': \"About Pinterest:\\nMillions of people around the world come to our platform to find creative ideas, dream about new possibilities and plan for memories that will last a lifetime. At Pinterest, we’re on a mission to bring everyone the inspiration to create a life they love, and that starts with the people behind the product.\\nDiscover a career where you ignite innovation for millions, transform passion into growth opportunities, celebrate each other’s unique experiences and embrace the flexibility to do your best work. Creating a career you love? It’s Possible.\\nWhat you’ll do:\\nProduct recommendations. Clearly communicate recommendations to product and engineering leadership on how we can evolve our Notifications strategy to address shortcomings observed through deep analysis. \\nDevelop measurement frameworks and metrics to drive data-driven decision making, optimizing for the full user journey. Opportunity sizing and analysis. Write clear, actionable analyses that help teams identify areas of improvement to our growth strategies. \\nThought partner to product, engineering, and ML leadership on the Notifications team to prioritize/scope projects and inform the development of the notifications user experience and corresponding ML systems. \\nImprove machine learning models which power notifications delivery and content, via direct contributions, new features/signals, and/or compelling analyses. \\nLeadership: Lead and mentor the scope of work for at least 2 other data scientists, demonstrating high-quality output of both yourself and others for whom you are responsible.\\nProvide continuous and candid feedback, recognizing individual strengths and contributions and flagging opportunities to improve performance.\\n\\nWhat we’re looking for:\\n8+ years of combined post-graduate academic and industry experience applying scientific methods to solve real-world problems on web-scale data.\\nStrong background in statistics, machine learning, and/or experimentation.\\nBachelor’s/Master’s degree in a relevant field such as Computer Science, or equivalent experience.\\nExpertise in at least one scripting language (ideally Python/R).\\nProficiency in SQL/Hive.\\nStrong business and product sense: delight in shaping vague questions into well-defined analyses and success metrics that drive business decisions.\\nExcellent communication skills: able to lead initiatives across multiple product areas and communicate findings with leadership and product teams through compelling data narratives. \\nExperience working closely with cross-functional teams, iterating on a user product via A/B experimentation. \\nExperience leading key technical projects and substantially influencing the scope and output of others.\\nRelocation Statement:\\nThis position is not eligible for relocation assistance. Visit our PinFlex page to learn more about our working model.\\nIn-Office Requirement Statement:\\nWe let the type of work you do guide the collaboration style. That means we're not always working in an office, but we continue to gather for key moments of collaboration and connection.\\nThis role will need to be in the office for in-person collaboration1-2 times per half and therefore can be situated anywhere in the country.\\n#LI-NM4\\n#LI-REMOTE\\nAt Pinterest we believe the workplace should be equitable, inclusive, and inspiring for every employee. In an effort to provide greater transparency, we are sharing the base salary range for this position. The position is also eligible for equity. Final salary is based on a number of factors including location, travel, relevant prior experience, or particular skills and expertise.\\nInformation regarding the culture at Pinterest and benefits available for this position can be found here.\\nUS based applicants only\\n$163,064—$335,720 USD\\nOur Commitment to Inclusion:\\nPinterest is an equal opportunity employer and makes employment decisions on the basis of merit. We want to have the best qualified people in every job. All qualified applicants will receive consideration for employment without regard to race, color, ancestry, national origin, religion or religious creed, sex (including pregnancy, childbirth, or related medical conditions), sexual orientation, gender, gender identity, gender expression, age, marital status, status as a protected veteran, physical or mental disability, medical condition, genetic information or characteristics (or those of a family member) or any other consideration made unlawful by applicable federal, state or local laws. We also consider qualified applicants regardless of criminal histories, consistent with legal requirements. If you require a medical or religious accommodation during the job application process, please complete this form for support.\"}, {'id': '1736745318', 'date_posted': '2025-06-13T21:01:32', 'date_created': '2025-06-13T21:09:25.412016', 'title': 'Data Scientist, Marketing', 'organization': 'Brex', 'organization_url': None, 'date_validthrough': None, 'locations_raw': [{'@type': 'Place', 'name': 'New York, New York, United States', 'address': {'@type': 'PostalAddress', 'name': 'New York, New York, United States', 'addressCountry': '', 'addressLocality': 'New York, New York, United States'}}], 'locations_alt_raw': None, 'location_type': None, 'location_requirements_raw': None, 'salary_raw': None, 'employment_type': None, 'url': 'https://www.brex.com/careers/8037495002?gh_jid=8037495002', 'source_type': 'ats', 'source': 'greenhouse', 'source_domain': 'www.brex.com', 'organization_logo': None, 'cities_derived': None, 'regions_derived': ['New York'], 'countries_derived': ['United States'], 'locations_derived': ['New York, United States'], 'timezones_derived': ['America/New_York'], 'lats_derived': [42.6664], 'lngs_derived': [-73.7987], 'remote_derived': False, 'domain_derived': 'brex.com', 'description_text': \"Why join us\\nBrex is the AI-powered spend platform. We help companies spend with confidence with integrated corporate cards, banking, and global payments, plus intuitive software for travel and expenses. Tens of thousands of companies from startups to enterprises — including DoorDash, Flexport, and Compass — use Brex to proactively control spend, reduce costs, and increase efficiency on a global scale.\\nWorking at Brex allows you to push your limits, challenge the status quo, and collaborate with some of the brightest minds in the industry. We’re committed to building a diverse team and inclusive culture and believe your potential should only be limited by how big you can dream. We make this a reality by empowering you with the tools, resources, and support you need to grow your career.\\nData at Brex\\nOur Scientists and Engineers work together to make data—and the insights derived from marketing data—a core asset across Brex. But it's more than just crunching numbers. The Data team at Brex develops infrastructure, statistical models, and marketing analytics products using data. Our work is foundational to Brex's marketing strategy, campaign measurement, customer engagement programs, and the overall experience we deliver to our customers.\\nWhat You’ll Do\\nAs a Data Scientist, Marketing, you will partner closely with our Marketing, Sales, and Data Science teams to develop analytical frameworks that inform and optimize our marketing strategy across the customer lifecycle. You’ll focus on designing and deploying models for account-based marketing, mixed media modeling (MMM), and multi-touch attribution. Your work will help Brex maximize ROI from marketing investments, improve targeting and personalization, and deliver measurable growth across acquisition, engagement, and retention. You will apply advanced analytics to complex data sets spanning paid, owned, and earned channels, contributing directly to lifecycle marketing programs and experimentation.\\nThe ideal candidate has experience in marketing analytics, especially in account-based marketing, MMM, and attribution modeling. They should have strong business acumen, a deep understanding of modern marketing tech stacks and channels, and the ability to translate technical findings into business actions.\\nWhere you’ll work\\nThis role will be based in our New York office. You must be willing to work in office at least 2 days per week on Wednesday and Thursday. Employees will be able to work remotely for up to 4 weeks per year.\\nResponsibilities:\\nDevelop analytical frameworks and statistical models for account-based marketing, mixed media modeling, and multi-touch attribution across marketing channels.\\nAnalyze campaign performance, channel effectiveness, and customer lifecycle touchpoints to drive strategy adjustments to maximize marketing ROI.\\nCollaborate with Marketing, Sales, and Data Science teams to design, implement, and evaluate experiments (A/B tests, incrementality studies) that inform marketing investment and customer journey optimization.\\nPartner with lifecycle marketing teams to identify key segments, personalize outreach, and optimize engagement and retention strategies.\\nSynthesize large, complex data sets into clear business recommendations; communicate actionable insights to both technical and non-technical stakeholders.\\nBuild and maintain scalable data pipelines and reporting to support ongoing measurement, attribution, and experimentation.\\nRequirements:\\nMaster’s degree or Ph.D. in Statistics, Economics, Marketing Analytics, Computer Science, or a related quantitative field.\\n3+ years of experience in marketing analytics, marketing data science, or related roles supporting B2B or SaaS marketing organizations.\\nStrong experience with SQL and Python (or R) for data analysis and modeling.\\nProficiency in advanced marketing measurement techniques, including MMM, multi-touch attribution, and customer segmentation.\\nFamiliarity with digital marketing data, modern marketing platforms (e.g., Salesforce, Marketo, HubSpot), and common paid, owned, and earned channels.\\nAbility to synthesize complex analyses into actionable business insights and communicate findings to stakeholders.\\nExperience with experimentation, A/B testing, and causal inference methodologies.\\nBonus Points:\\nExperience working in B2B SaaS or fintech, especially supporting demand generation and account-based marketing programs.\\nFamiliarity with customer journey analytics, advanced personalization, or recommendation systems.\\nExperience working with marketing automation, CRM, and data integration tools.\\nKnowledge of adtech, martech, and data privacy best practices.\\nThis role offers a unique opportunity to shape the future of marketing analytics at Brex while working with a world-class data and marketing team. If you are passionate about using data science to drive smarter marketing decisions, we’d love to hear from you!\\nCompensation\\nThe expected salary range for this role is $152,000 - $190,000. However, the starting base pay will depend on a number of factors including the candidate’s location, skills, experience, market demands, and internal pay parity. Depending on the position offered, equity and other forms of compensation may be provided as part of a total compensation package.\\nPlease be aware, job-seekers may be at risk of targeting by malicious actors looking for personal data. Brex recruiters will only reach out via LinkedIn or email with a brex.com domain. Any outreach claiming to be from Brex via other sources should be ignored.\"}, {'id': '1736745328', 'date_posted': '2025-06-13T20:59:07', 'date_created': '2025-06-13T21:09:25.932124', 'title': 'Data Scientist, Marketing', 'organization': 'Brex', 'organization_url': None, 'date_validthrough': None, 'locations_raw': [{'@type': 'Place', 'name': 'San Francisco, California, United States', 'address': {'@type': 'PostalAddress', 'name': 'San Francisco, California, United States', 'addressCountry': '', 'addressLocality': 'San Francisco, California, United States'}}], 'locations_alt_raw': None, 'location_type': None, 'location_requirements_raw': None, 'salary_raw': None, 'employment_type': None, 'url': 'https://www.brex.com/careers/8037486002?gh_jid=8037486002', 'source_type': 'ats', 'source': 'greenhouse', 'source_domain': 'www.brex.com', 'organization_logo': None, 'cities_derived': ['San Francisco'], 'regions_derived': ['California'], 'countries_derived': ['United States'], 'locations_derived': ['San Francisco, California, United States'], 'timezones_derived': ['America/Los_Angeles'], 'lats_derived': [37.7558], 'lngs_derived': [-122.4449], 'remote_derived': False, 'domain_derived': 'brex.com', 'description_text': \"Why join us\\nBrex is the AI-powered spend platform. We help companies spend with confidence with integrated corporate cards, banking, and global payments, plus intuitive software for travel and expenses. Tens of thousands of companies from startups to enterprises — including DoorDash, Flexport, and Compass — use Brex to proactively control spend, reduce costs, and increase efficiency on a global scale.\\nWorking at Brex allows you to push your limits, challenge the status quo, and collaborate with some of the brightest minds in the industry. We’re committed to building a diverse team and inclusive culture and believe your potential should only be limited by how big you can dream. We make this a reality by empowering you with the tools, resources, and support you need to grow your career.\\nData at Brex\\nOur Scientists and Engineers work together to make data—and the insights derived from marketing data—a core asset across Brex. But it's more than just crunching numbers. The Data team at Brex develops infrastructure, statistical models, and marketing analytics products using data. Our work is foundational to Brex's marketing strategy, campaign measurement, customer engagement programs, and the overall experience we deliver to our customers.\\nWhat You’ll Do\\nAs a Data Scientist, Marketing, you will partner closely with our Marketing, Sales, and Data Science teams to develop analytical frameworks that inform and optimize our marketing strategy across the customer lifecycle. You’ll focus on designing and deploying models for account-based marketing, mixed media modeling (MMM), and multi-touch attribution. Your work will help Brex maximize ROI from marketing investments, improve targeting and personalization, and deliver measurable growth across acquisition, engagement, and retention. You will apply advanced analytics to complex data sets spanning paid, owned, and earned channels, contributing directly to lifecycle marketing programs and experimentation.\\nThe ideal candidate has experience in marketing analytics, especially in account-based marketing, MMM, and attribution modeling. They should have strong business acumen, a deep understanding of modern marketing tech stacks and channels, and the ability to translate technical findings into business actions.\\nWhere you’ll work\\nThis role will be based in our San Francisco office. You must be willing to work in office at least 2 days per week on Wednesday and Thursday. Employees will be able to work remotely for up to 4 weeks per year.\\nResponsibilities:\\nDevelop analytical frameworks and statistical models for account-based marketing, mixed media modeling, and multi-touch attribution across marketing channels.\\nAnalyze campaign performance, channel effectiveness, and customer lifecycle touchpoints to drive strategy adjustments to maximize marketing ROI.\\nCollaborate with Marketing, Sales, and Data Science teams to design, implement, and evaluate experiments (A/B tests, incrementality studies) that inform marketing investment and customer journey optimization.\\nPartner with lifecycle marketing teams to identify key segments, personalize outreach, and optimize engagement and retention strategies.\\nSynthesize large, complex data sets into clear business recommendations; communicate actionable insights to both technical and non-technical stakeholders.\\nBuild and maintain scalable data pipelines and reporting to support ongoing measurement, attribution, and experimentation.\\nRequirements:\\nMaster’s degree or Ph.D. in Statistics, Economics, Marketing Analytics, Computer Science, or a related quantitative field.\\n3+ years of experience in marketing analytics, marketing data science, or related roles supporting B2B or SaaS marketing organizations.\\nStrong experience with SQL and Python (or R) for data analysis and modeling.\\nProficiency in advanced marketing measurement techniques, including MMM, multi-touch attribution, and customer segmentation.\\nFamiliarity with digital marketing data, modern marketing platforms (e.g., Salesforce, Marketo, HubSpot), and common paid, owned, and earned channels.\\nAbility to synthesize complex analyses into actionable business insights and communicate findings to stakeholders.\\nExperience with experimentation, A/B testing, and causal inference methodologies.\\nBonus Points:\\nExperience working in B2B SaaS or fintech, especially supporting demand generation and account-based marketing programs.\\nFamiliarity with customer journey analytics, advanced personalization, or recommendation systems.\\nExperience working with marketing automation, CRM, and data integration tools.\\nKnowledge of adtech, martech, and data privacy best practices.\\nThis role offers a unique opportunity to shape the future of marketing analytics at Brex while working with a world-class data and marketing team. If you are passionate about using data science to drive smarter marketing decisions, we’d love to hear from you!\\nCompensation\\nThe expected salary range for this role is $152,000 - $190,000. However, the starting base pay will depend on a number of factors including the candidate’s location, skills, experience, market demands, and internal pay parity. Depending on the position offered, equity and other forms of compensation may be provided as part of a total compensation package.\\nPlease be aware, job-seekers may be at risk of targeting by malicious actors looking for personal data. Brex recruiters will only reach out via LinkedIn or email with a brex.com domain. Any outreach claiming to be from Brex via other sources should be ignored.\"}, {'id': '1736809112', 'date_posted': '2025-06-13T20:54:09', 'date_created': '2025-06-13T21:40:38.118755', 'title': 'Staff Data Scientist, Growth Analytics', 'organization': 'Coupang Internal', 'organization_url': None, 'date_validthrough': None, 'locations_raw': [{'@type': 'Place', 'name': 'Mountain View, USA', 'address': {'@type': 'PostalAddress', 'name': 'Mountain View, USA', 'addressCountry': '', 'addressLocality': 'Mountain View, USA'}}], 'locations_alt_raw': None, 'location_type': None, 'location_requirements_raw': None, 'salary_raw': None, 'employment_type': None, 'url': 'https://boards.greenhouse.io/coupanginternal/jobs/6853106?gh_jid=6853106', 'source_type': 'ats', 'source': 'greenhouse', 'source_domain': 'boards.greenhouse.io', 'organization_logo': None, 'cities_derived': ['Mountain View'], 'regions_derived': ['California'], 'countries_derived': ['United States'], 'locations_derived': ['Mountain View, California, United States'], 'timezones_derived': ['America/Los_Angeles'], 'lats_derived': [37.4001], 'lngs_derived': [-122.0796], 'remote_derived': False, 'domain_derived': 'coupang.com', 'description_text': 'Please complete the attached the Internal Transfer Request Form and submit it.\\nPlease make sure you are applying with your Coupang e-mail address.\\nOur Analytics team has a mission to power the growth of Coupang through data-driven insights. We are a team of creative problem solvers with a passion to deliver innovative business solutions. The team leverages big data to empower business decisions and deliver insights, metrics and tools in order to drive customer engagement, retention and business growth. As the growth engine within one of the largest and fastest growing e-commerce platforms on the planet, Coupang’s analytics team offers countless ways for an ambitious data scientist to make an impact.\\n\\nKey Responsibilities\\nBuild machine learning models, perform proof-of-concept, experiment, optimize and deploy your models into production. \\nEstablish scalable, efficient, automated processes for data analysis, machine-learning model development, model validation and serving. \\nWork with a team of high-performing analytics, data science professionals, and cross-functional teams to identify business opportunities, optimize product performance or marketing efforts.\\nAnalyze large-scale structured and unstructured data; develop deep-dive analyses and machine learning models to drive customer engagement and retention.\\nDesign and develop core business metrics, create insightful automated dashboards and data visualization to track them and extract useful business insights.\\nDesign and analyze experiments to test new product ideas or marketing strategies. Convert the results into actionable recommendations.\\nCraft compelling stories; make logical recommendations; drive informed actions.\\nCommunicate findings to senior leaders and evangelize data-driven business decisions\\nBasic Qualifications\\nMaster’s degree in a quantitative field - Computer Science, Mathematics, Engineering or related fields;\\n8+ years of work experience involving quantitative data analysis and machine learning models projects.\\nProgramming language required including python, R, spark\\nDatabase experience with advanced SQL or SQL-like skills (Hadoop-Hive); experience researching and manipulating complex and large datasets;\\n8+ years working experience in the engineering teams that build large-scale ML-driven user-facing products \\nExperience with state of the art ML modeling techniques and approaches\\nHands-on experience training and applying models at scale. \\nAbility to communicate information effectively to a variety of groups at different levels.\\nWillingness to dig-in and understand the data and to leverage creative thinking and problem-solving skills are absolute musts.\\nSelf-starter who takes the initiative to get things done.\\nOutstanding team player with a customer-back mindset\\nPreferred Qualifications\\nExperience with manipulating massive-scale customer and clickstream data.\\nExperience with causal inference and/or reinforcement learning such as Multi-arm bandit\\nExperience with Hadoop or other MapReduce paradigms, and associated languages such as Pig, Hive, etc.\\nExcellent communications skills, with the ability to synthesize, simplify and explain complex problems to different types of audience, including executives\\nExperience in working on, backend and ML systems for large-scale user-facing products, and have a good understanding of how they all work. \\nSearch engine bidding experience and knowledge'}, {'id': '1736754713', 'date_posted': '2025-06-13T20:53:07', 'date_created': '2025-06-13T21:16:46.112844', 'title': 'Staff Data Scientist, Growth Analytics', 'organization': 'Coupang', 'organization_url': None, 'date_validthrough': None, 'locations_raw': [{'@type': 'Place', 'name': 'Mountain View, USA', 'address': {'@type': 'PostalAddress', 'name': 'Mountain View, USA', 'addressCountry': '', 'addressLocality': 'Mountain View, USA'}}], 'locations_alt_raw': None, 'location_type': None, 'location_requirements_raw': None, 'salary_raw': None, 'employment_type': None, 'url': 'https://www.coupang.jobs/en/jobs/?gh_jid=6853105', 'source_type': 'ats', 'source': 'greenhouse', 'source_domain': 'www.coupang.jobs', 'organization_logo': None, 'cities_derived': ['Mountain View'], 'regions_derived': ['California'], 'countries_derived': ['United States'], 'locations_derived': ['Mountain View, California, United States'], 'timezones_derived': ['America/Los_Angeles'], 'lats_derived': [37.4001], 'lngs_derived': [-122.0796], 'remote_derived': False, 'domain_derived': 'coupang.com', 'description_text': 'Company Introduction \\nWe exist to wow our customers. We know we’re doing the right thing when we hear our customers say, “How did we ever live without Coupang?” Born out of an obsession to make shopping, eating, and living easier than ever, we’re collectively disrupting the multi-billion-dollar e-commerce industry from the ground up. We are one of the fastest-growing e-commerce companies that established an unparalleled reputation for being a dominant and reliable force in South Korean commerce. \\nWe are proud to have the best of both worlds — a startup culture with the resources of a large global public company. This fuels us to continue our growth and launch new services at the speed we have been since our inception. We are all entrepreneurs surrounded by opportunities to drive new initiatives and innovations. At our core, we are bold and ambitious people that like to get our hands dirty and make a hands-on impact. At Coupang, you will see yourself, your colleagues, your team, and the company grow every day. \\nOur mission to build the future of commerce is real. We push the boundaries of what’s possible to solve problems and break traditional tradeoffs. Join Coupang now to create an epic experience in this always-on, high-tech, and hyper-connected world. \\nOur Analytics team has a mission to power the growth of Coupang through data-driven insights. We are a team of creative problem solvers with a passion to deliver innovative business solutions. The team leverages big data to empower business decisions and deliver insights, metrics and tools in order to drive customer engagement, retention and business growth. As the growth engine within one of the largest and fastest growing e-commerce platforms on the planet, Coupang’s analytics team offers countless ways for an ambitious data scientist to make an impact.\\n\\nKey Responsibilities\\nBuild machine learning models, perform proof-of-concept, experiment, optimize and deploy your models into production. \\nEstablish scalable, efficient, automated processes for data analysis, machine-learning model development, model validation and serving. \\nWork with a team of high-performing analytics, data science professionals, and cross-functional teams to identify business opportunities, optimize product performance or marketing efforts.\\nAnalyze large-scale structured and unstructured data; develop deep-dive analyses and machine learning models to drive customer engagement and retention.\\nDesign and develop core business metrics, create insightful automated dashboards and data visualization to track them and extract useful business insights.\\nDesign and analyze experiments to test new product ideas or marketing strategies. Convert the results into actionable recommendations.\\nCraft compelling stories; make logical recommendations; drive informed actions.\\nCommunicate findings to senior leaders and evangelize data-driven business decisions\\nBasic Qualifications\\nMaster’s degree in a quantitative field - Computer Science, Mathematics, Engineering or related fields;\\n8+ years of work experience involving quantitative data analysis and machine learning models projects.\\nProgramming language required including python, R, spark\\nDatabase experience with advanced SQL or SQL-like skills (Hadoop-Hive); experience researching and manipulating complex and large datasets;\\n8+ years working experience in the engineering teams that build large-scale ML-driven user-facing products \\nExperience with state of the art ML modeling techniques and approaches\\nHands-on experience training and applying models at scale. \\nAbility to communicate information effectively to a variety of groups at different levels.\\nWillingness to dig-in and understand the data and to leverage creative thinking and problem-solving skills are absolute musts.\\nSelf-starter who takes the initiative to get things done.\\nOutstanding team player with a customer-back mindset\\nPreferred Qualifications\\nExperience with manipulating massive-scale customer and clickstream data.\\nExperience with causal inference and/or reinforcement learning such as Multi-arm bandit\\nExperience with Hadoop or other MapReduce paradigms, and associated languages such as Pig, Hive, etc.\\nExcellent communications skills, with the ability to synthesize, simplify and explain complex problems to different types of audience, including executives\\nExperience in working on, backend and ML systems for large-scale user-facing products, and have a good understanding of how they all work. \\nSearch engine bidding experience and knowledge\\nPay & Benefits \\nOur compensation reflects the cost of living across several US geographic markets. At Coupang, your base pay is one part of your total compensation. \\nThe base pay for this position ranges from $138,000/year in our lowest geographic market to $297,000/year in our highest geographic market. Pay is based on several factors including market location and may vary depending on job-related knowledge, skills, and experience. \\nGeneral Description of All Benefits (Drafter: Please check with your team if any change on the benefit description) \\nMedical/Dental/Vision/Life, AD&D insurance \\nFlexible Spending Accounts (FSA) & Health Savings Account (HSA) \\nLong-term/Short-term Disability \\nEmployee Assistance Program (EAP) program \\n401K Plan with Company Match \\n18-21 days of the Paid Time Off (PTO) a year based on the tenure \\n12 Paid Holidays \\nXX weeks of Paid Parental leave \\nPre-tax commuter benefits \\nMTV - [Free] Electric Car Charging Station \\nGeneral Description of Other Compensation \\n“Other Compensation” includes, but is not limited to, bonuses, equity, or other forms of compensation that would be offered to the hired applicant in addition to their established salary range or wage scale. \\nRecruitment Process and Others \\nRecruitment Process \\nApplication Review - Phone Interview - Onsite (or Virtual Onsite) Interview – Offer \\nThe exact nature of the recruitment process may vary according to the specific job and may be changed due to scheduling or other circumstances. \\nInterview schedules and the results will be informed to the applicant via the e-mail address submitted at the application stage. \\nDetails to Consider \\nThis job posting may be closed prior to the stated end date for application if all openings are filled. \\nCoupang has the right to rescind an offer of employment if a candidate is found to have submitted false information as part of the application process. \\nCoupang does not discriminate against disabled applicants or those with veteran status. We are proud to offer equal opportunities for all applicants. \\nPrivacy Notice\\u200b \\nYour personal information will be collected and managed by Coupang as stated in the Application Privacy Notice located below: https://www.coupang.jobs/privacy-policy/\\u200b \\nCoupang is an equal opportunity employer. All qualified applicants will receive consideration for employment without regard to race, color, religion, sex, or gender (including pregnancy, gender identity, gender expression, sexual orientation, transgender status), national origin, age, disability, medical condition, HIV/AIDS or Hepatitis C status, marital status, military or veteran status, use of a trained dog guide or service animal, political activities, or affiliations, citizenship, or any other characteristic or class protected by the laws or regulations in the locations where we operate. If you need assistance and/or reasonable accommodation in the recruiting process due to a disability, please contact us at usrecruiting@coupang.com. \\nJob Requisition ID: R0058606'}, {'id': '1736788219', 'date_posted': '2025-06-13T20:29:00', 'date_created': '2025-06-13T21:30:14.27326', 'title': 'Data Scientist', 'organization': 'Microsoft', 'organization_url': 'https://www.microsoft.com', 'date_validthrough': None, 'locations_raw': [{'@type': 'Place', 'address': {'@type': 'PostalAddress', 'addressLocality': 'Redmond, Washington, United States'}}], 'locations_alt_raw': None, 'location_type': None, 'location_requirements_raw': None, 'salary_raw': None, 'employment_type': ['Full-Time'], 'url': 'https://jobs.careers.microsoft.com/global/en/job/1830276', 'source_type': 'ats', 'source': 'in-house', 'source_domain': 'careers.microsoft.com', 'organization_logo': None, 'cities_derived': ['Redmond'], 'regions_derived': ['Washington'], 'countries_derived': ['United States'], 'locations_derived': ['Redmond, Washington, United States'], 'timezones_derived': ['America/Los_Angeles'], 'lats_derived': [47.6763], 'lngs_derived': [-122.1169], 'remote_derived': False, 'domain_derived': 'microsoft.com', 'description_text': 'Microsoft Advertising (MSA) is a worldwide organization on the cutting edge of\\nthe digital advertising industry. We are the engine that powers the buying and\\nselling of digital advertising across all aspects of our digital portfolio\\nincluding our high-growth search engine, Bing, and consumer services like MSN,\\nMicrosoft News, Xbox, and Outlook.\\n\\n\\nMarket Sciences Team in MSA is hiring talented, highly motivated and productive\\nindividuals with expertise in the areas of: Computer Science, Machine Learning,\\nEconometrics, Statistics, Modeling, Simulation and Data Mining. The team\\ndevelops and applies advanced techniques to turn our petabytes of data into\\ninsights; and to drive actions based on those insights. The team works closely\\nwith partners across MSA to enable rigorous, effective, and data-driven decision\\nmaking. Some examples of the challenges we face:\\n\\n * Lead Scoring and Qualification, Customer retention and Churn, Customer\\n   Segmentation and forecasting performance.\\n * Campaign Effectiveness and ROI Measurement.\\n * Understanding Advertiser value, lifecycle, opportunity, and marketing\\n   objectives.\\n * Designing metrics to measure and track Microsoft advertiser demand health and\\n   inform/guide sales and marketing execution.\\n * Designing and analyzing the results of online and offline experiments. Using\\n   quasi-experiments and counterfactuals to understand the causality in\\n   scenarios where AB testing is not feasible.\\n * Prototyping algorithms for creating, managing, and optimizing demand\\n   generation activities through sales, marketing, and product to support our\\n   marketplace.\\n * Defining metrics and building a measurement framework to quantify the impact\\n   and incrementality of various sales and marketing programs.\\n\\nAs a Data Scientist in MSA Market Science Team, you will have the opportunity to\\napply your data science skills to have a real impact on Microsoft’s business,\\nour advertising partners, and millions of end users. This role is a unique\\nopportunity to work with a world-class, interdisciplinary group of data\\nscientists, analysts, sales, and product managers.\\n\\n\\xa0\\n\\nThis role is flexible in that you can work up to 50% from home.\\n\\n\\nMicrosoft’s mission is to empower every person and every organization on the\\nplanet to achieve more. As employees we come together with a growth mindset,\\ninnovate to empower others, and collaborate to realize our shared goals. Each\\nday we build on our values of respect, integrity, and accountability to create a\\nculture of inclusion where everyone can thrive at work and beyond.'}, {'id': '1736523613', 'date_posted': '2025-06-13T18:31:13.703', 'date_created': '2025-06-13T18:35:06.154172', 'title': 'Machine Learning Data Scientist – Health Incubation', 'organization': 'Apple', 'organization_url': 'https://www.apple.com', 'date_validthrough': None, 'locations_raw': [{'@type': 'Place', 'address': {'@type': 'PostalAddress', 'addressCountry': 'United States', 'addressLocality': 'Cupertino', 'addressRegion': 'California'}}], 'locations_alt_raw': None, 'location_type': None, 'location_requirements_raw': None, 'salary_raw': None, 'employment_type': None, 'url': 'https://jobs.apple.com/en-us/details/200608749', 'source_type': 'ats', 'source': 'in-house', 'source_domain': 'jobs.apple.com', 'organization_logo': None, 'cities_derived': ['Cupertino'], 'regions_derived': ['California'], 'countries_derived': ['United States'], 'locations_derived': ['Cupertino, California, United States'], 'timezones_derived': ['America/Los_Angeles'], 'lats_derived': [37.3168], 'lngs_derived': [-122.0466], 'remote_derived': False, 'domain_derived': 'apple.com', 'description_text': '\"I believe, if you zoom out into the future, and you look back, and you ask the\\nquestion, \\'What was Apple’s greatest contribution to mankind?\\' It will be about\\nhealth.” – Tim Cook, 2019 Would you like to be a critical part of an engineering\\nteam building next-generation features to improve health using sensing\\ntechnologies? The Health Incubation team builds outstanding technologies to\\nsupport our users in living their healthiest, happiest lives by providing them\\nwith objective, accurate, and timely information about their health and\\nwell-being! As part of the larger Sensor SW & Prototyping team, we take a\\nmultimodal approach to health sensing, using a variety of sensors across HW\\nplatforms, such as camera, PPG, inertial motion, temperature.\\n\\n\\nDESCRIPTION\\n\\n\\nIn this role, you will be applying your in-depth knowledge of AI/ML, algorithms,\\ndata science, statistical analysis, and human physiology to explore novel\\nfeature concepts and build algorithms and ML models to support them. You will be\\nworking with other ML Scientists, Data/Integrity Engineers, Health Studies,\\nHardware, Clinical, and Regulatory teams to define specifications, develop\\ninstrumentation and experiments to analyze large datasets and assist with ML\\ndevelopment, and perform failure analysis.\\n\\n\\nMINIMUM QUALIFICATIONS\\n\\n\\nMasters in BME/CS/CE/EECS/Math/Physics or equivalent experience Experience with\\nmachine learning, statistical analysis, signal processing, and scientific\\nreasoning Experience with large scale data solutions with distributed data\\nprocessing frameworks (e.g. MapReduce, Spark) and designing/optimizing scalable\\nframeworks to run ML experiments Excellent communication skills, comfortable in\\na collaborative and innovative development environment\\n\\n\\nPREFERRED QUALIFICATIONS\\n\\n\\nPh.D in BME/CS/CE/EECS/Math/Physics or equivalent experience Experience with\\nfailure analysis and root cause analysis techniques such as hypothesis testing\\nand experiment design Experience in designing specifications, human research\\nstudies, requirements and evaluation'}, {'id': '1736429335', 'date_posted': '2025-06-13T17:25:22.387', 'date_created': '2025-06-13T17:30:45.716564', 'title': 'Data Scientist- Decision Science', 'organization': \"Domino's\", 'organization_url': None, 'date_validthrough': None, 'locations_raw': [{'address': {'streetAddress': '30 Frank Lloyd Wright Drive', 'addressLocality': 'Ann Arbor', 'addressRegion': 'Michigan', 'postalCode': '48105', 'addressCountry': 'United States'}}], 'locations_alt_raw': ['30 Frank Lloyd Wright Dr, Ann Arbor, MI 48105, USA'], 'location_type': None, 'location_requirements_raw': None, 'salary_raw': None, 'employment_type': ['Full-time'], 'url': 'https://jobs.smartrecruiters.com/Dominos/744000065096545-data-scientist-decision-science-', 'source_type': 'ats', 'source': 'smartrecruiters', 'source_domain': 'jobs.smartrecruiters.com', 'organization_logo': None, 'cities_derived': ['Ann Arbor'], 'regions_derived': ['Michigan'], 'countries_derived': ['United States'], 'locations_derived': ['Ann Arbor, Michigan, United States'], 'timezones_derived': ['America/Detroit'], 'lats_derived': [42.2759], 'lngs_derived': [-83.731], 'remote_derived': False, 'domain_derived': 'dominos.com', 'description_text': \"Company DescriptionDomino’s Pizza, which began in 1960 as a single store location in Ypsilanti, MI, has had a lot to celebrate lately: we’re a reshaped, reenergized brand of honesty, transparency and accountability – not to mention, great food! In the rise to becoming a true technology leader, the brand is now consistently one of the top five companies in online transactions and 65% of our sales in the U.S. are taken through digital channels. The brand continues to ‘deliver the dream’ to local business owners, 90% of which started as delivery drivers and pizza makers in our stores. That’s just the tip of the iceberg…or as we might say, one “slice” of the pie! If this sounds like a brand you’d like to be a part of, consider joining our team!Job DescriptionThe Decision Science team is critical in driving Domino’s industry-leading growth by pairing strategic thought leadership with the latest analytic techniques in the fields of data science, machine learning, artificial intelligence, and primary research. The Decision Science team leverages their skills to drive outstanding consumer and employee experiences to fuel future growth.The National Campaign Decision Science team works cross functionally to ensure a best-in-class experience for our customers. Analytics provided by this team play a key role in shaping Domino’s National Advertising Calendar. As a Data Scientist on the National Campaign Decision Science team, you will work closely with National Marketing, Product Innovation, and IT to develop strategy, analytics and roll out plans for national advertising campaigns. You will also conduct analysis and form insights to grow reach, orders and profitability of National Windows.For this role, we are seeking someone with a deep understanding of social patterns and human behavior who possesses a strong analytical skillset. The candidate should be skilled in using multiple data sources, SQL, statistical programming and measurement methodologies for working with surveys and first party data. The ideal candidate will have a background in quantitative economics, sociology, psychology, or political science.\\xa0RESPONSIBILITIES AND DUTIES\\xa0Leverage internal datasets, market trends, consumer behavior, and competitive analysis to inform decisions that will put Domino’s in the best position for successHelp build the business case for each product innovation or value campaign conceptForecast order volume, product mix, or other relevant metrics to inform supply chain & store operators ahead of each national campaign activationProvide campaign analysis to socialize learnings and actionable recommendations that will be used to inform future campaign plansImplement and leverage automation tools to streamline the generation and sharing of insightsPresent findings and business recommendations to decision-makers using clear and effective written or visual presentations of quantitative dataResponsible for delivering material impact to the organization’s performance by fostering analytical partnership with marketing teams, identifying and executing against analytics-based business opportunities, and developing analytic approaches & reports that improve the efficiency of the marketing organization.Develop data collection strategies and analysis plans, specifying requirements to IT in collaboration with product owners.Extract, scrub, organize data to build datasets for analysis\\xa0Identify and apply appropriate analytical methods to glean insights from the data\\xa0Translate results into business recommendations or interpretations\\xa0Use visualization, reporting and other tools to improve the ways in which team accesses and interprets datasets\\xa0QualificationsBachelor's degree in Economics, Sociology, Psychology, Political Science or related quantitative social science field\\xa02+ years of experience in a quantitative or technical work environment\\xa0\\xa0Strong experience solving business problems with data science, emphasis on business outcomes.Proficient in SQL, R or PythonExperience working in cross-functional teams focused on: Business/Financial Analysis, Promotional Analytics, Customer Analytics, Media Analytics, etc.Fundamental knowledge of predictive modeling, segmentation analysis, data mining.Knowledge of advanced statistical techniques and concepts (regression, probability, properties of distributions, statistical tests, etc.) and experience with applications\\xa0Ability to self-start and self-direct work in a dynamic, cross-functional environmentExcellent written and verbal communication skills with the ability to engage, influence, and encourage partners and team members to drive collaboration and alignmentExperience communicating analysis results with a diverse non-technical audienceAdditional InformationBenefits:\\n•\\xa0\\xa0 \\xa0Paid Holidays and Vacation\\u202f\\u202f\\xa0\\n•\\xa0\\xa0 \\xa0Medical, Dental & Vision benefits that start on the first day of employment\\n•\\xa0\\xa0 \\xa0No-cost mental health support for employee and dependents\\n•\\xa0\\xa0 \\xa0Childcare tuition discounts\\n•\\xa0\\xa0 \\xa0No-cost fitness, nutrition, and wellness programs\\xa0\\n•\\xa0\\xa0 \\xa0Fertility benefits\\n•\\xa0\\xa0 \\xa0Adoption assistance\\n•\\xa0\\xa0 \\xa0401k matching contributions\\u202f\\u202f\\xa0\\n•\\xa0\\xa0 \\xa015% off the purchase price of stock\\u202f\\u202f\\xa0\\n•\\xa0\\xa0 \\xa0Company bonus\\u202f\\u202f\\xa0\\n\\xa0\\n\\xa0\"}, {'id': '1736430791', 'date_posted': '2025-06-13T17:01:57', 'date_created': '2025-06-13T17:31:54.303283', 'title': 'Data Scientist', 'organization': 'Core One', 'organization_url': None, 'date_validthrough': None, 'locations_raw': [{'@type': 'Place', 'name': 'Tampa, FL', 'address': {'@type': 'PostalAddress', 'name': 'Tampa, FL', 'addressCountry': '', 'addressLocality': 'Tampa, FL'}}], 'locations_alt_raw': None, 'location_type': None, 'location_requirements_raw': None, 'salary_raw': None, 'employment_type': None, 'url': 'https://job-boards.greenhouse.io/coreone/jobs/8037073002', 'source_type': 'ats', 'source': 'greenhouse', 'source_domain': 'job-boards.greenhouse.io', 'organization_logo': None, 'cities_derived': ['Tampa'], 'regions_derived': ['Florida'], 'countries_derived': ['United States'], 'locations_derived': ['Tampa, Florida, United States'], 'timezones_derived': ['America/New_York'], 'lats_derived': [27.9945], 'lngs_derived': [-82.4447], 'remote_derived': False, 'domain_derived': 'coreone.com', 'description_text': \"Join our team at Core One! Our mission is to be at the forefront of devising analytical, operational and technical solutions to our Nation's most complex national security challenges. In order to achieve our mission, Core One values people first! We are committed to recruiting, nurturing, and retaining top talent! We offer a competitive total compensation package that sets us apart from our competition. Core One is a team-oriented, dynamic, and growing company that values exceptional performance!\\nAssist the Resources and Analysis Directorate in the development and documentation of detailed data requirements for application systems in a logical data model. Develop the analysis, creation, acquisition, maintenance, and use characteristics of the data identified. Ensure compliance with data management policies, guidance, and standards. Evaluate data reuse, data integration, and data compliance and develop strategies based on stewardship and authorities. Develop physical schemas that address functional and technical requirements for the database including data sharing as appropriate. Develop, construct, test, and maintain data architectures. Develop information displays, decision briefings, analytical papers, and facilitate senior leader discussions. \\nBasic Qualifications:\\n- 10 years of distributed experience with Operations Research and System Analysis (ORSA), Data Science, or Data Engineering\\n- 5 years of experience in Data Engineering\\n- Experience and proficiency in developing analytic methodologies, metrics, and decision criteria\\n- Experience with data warehousing, data ingestion, and data profiling\\n- Experience with data processing tools, in particular SQL and pandas\\n- Experience in development within Python or other object-oriented languages\\n- Experience in read, extract, transform, stage, and load data to create data pipelines\\n- Ability to explore new tools and technologies that will help to improve ETL platform performance\\n- TS/SCI clearance\\n- M.A. or M.S. degree in OR, Data Science, Data Engineering, or Applied Mathematics preferred\\nAdditional Qualifications:\\n- Experience with Joint planning and military service a plus\\n- Experience with the United States Central Command Area of Responsibility a plus\\n- Experience with forecasting models a plus\\n- Experience with cloud environments (Azure, AWS, etc.) a plus\\n- Experience in Advana or Maven platforms a plus\\n- Experience in developing and deploying data unit testing/data quality assessment tools a plus\\n- Experience with preparing and presenting senior leadership briefings and papers a plus\\n- Excellent oral and written communication skills a plus\\nClearance: Applicants selected will be subject to a security investigation and may need to meet eligibility requirements for access to classified information; TS/SCI clearance is required.\\nCore One is an Equal Opportunity Employer. All qualified applicants will receive consideration for employment without regard to race, color, religion, sex, gender identity, sexual orientation, national origin, or protected veteran status and will not be discriminated against on the basis of disability.\\n__PRESENT\"}]\n"
     ]
    },
    {
     "data": {
      "text/plain": [
       "[{'id': '1737466174',\n",
       "  'date_posted': '2025-06-14T03:55:44',\n",
       "  'date_created': '2025-06-14T04:17:21.872236',\n",
       "  'title': 'Lead Data Scientist',\n",
       "  'organization': 'Upgrade',\n",
       "  'organization_url': None,\n",
       "  'date_validthrough': None,\n",
       "  'locations_raw': [{'@type': 'Place',\n",
       "    'name': 'United States (Remote)',\n",
       "    'address': {'@type': 'PostalAddress',\n",
       "     'name': 'United States (Remote)',\n",
       "     'addressCountry': '',\n",
       "     'addressLocality': 'United States (Remote)'}}],\n",
       "  'locations_alt_raw': None,\n",
       "  'location_type': None,\n",
       "  'location_requirements_raw': None,\n",
       "  'salary_raw': None,\n",
       "  'employment_type': None,\n",
       "  'url': 'https://job-boards.greenhouse.io/upgrade/jobs/4576482005',\n",
       "  'source_type': 'ats',\n",
       "  'source': 'greenhouse',\n",
       "  'source_domain': 'job-boards.greenhouse.io',\n",
       "  'organization_logo': None,\n",
       "  'cities_derived': None,\n",
       "  'regions_derived': None,\n",
       "  'countries_derived': ['United States'],\n",
       "  'locations_derived': ['United States'],\n",
       "  'timezones_derived': ['America/New_York'],\n",
       "  'lats_derived': [38.9047],\n",
       "  'lngs_derived': [-77.0163],\n",
       "  'remote_derived': True,\n",
       "  'domain_derived': 'upgrade.com',\n",
       "  'description_text': 'Upgrade is a fintech company that provides affordable and responsible credit, mobile banking, and payment products to everyday consumers. We were the fastest growing company in the Americas last year according to the Financial Times and Upgrade Card was the fastest growing credit card in America two years in a row. We have delivered over $33 billion in affordable and responsible credit to our 5.5M customers. The company is backed by some of the most prominent technology investors and was recently valued at $6.3B.\\nWe have built an energizing, collaborative and inclusive culture where team members help each other, learn and innovate to move the company and its customers in the right direction, and own the outcome of their efforts.\\nUpgrade has been named a “Best Place to Work in the Bay Area” three years in a row, “Top Companies to work for in Arizona” and one of the \"Best Engineering Department\" awarded annually by Comparably. We\\'ve also received recognition for being a best company for Diversity, Women, Culture, and Veterans.\\nWe are looking for new team members who get excited about designing and delivering new and better products to join a team of 1850 talented and dedicated professionals. Come work with us if you like to tackle big problems and make a meaningful difference in people\\'s lives.\\nAbout the Role:\\nWe are seeking a highly analytical and results-driven team member to join our growing data science team in the financial services sector. You will play a key role in developing and implementing predictive machine learning /AI models, leading data-driven decision-making processes, managing data science projects from conception to deployment, and extracting insights that drive product development, risk mitigation, and customer strategy. This role requires a strong foundation in statistics, machine learning, and financial domain knowledge. \\nWhat You’ll Do:\\nBuild and deploy ML/AI models to solve business problems in areas like prospect targeting, credit risk, fraud detection, pricing, verification and loss forecasting. \\nAnalyze large, structured and unstructured datasets using SQL, Python or similar tools.\\nEvaluate existing customer data, new third party or alternative data to enhance the feature list and work with data engineering and analytics teams to build scalable and durable feature engineering process. \\nStay up to date with the latest trends and technologies in data science and fintech, actively research new tools and techniques available for model development.\\nCollaborate with cross-functional teams including risk, marketing, product, and engineering to define data-driven strategies.\\n\\nWhat We Look For:\\nAdvanced Degree (MS/PhD) in Data Science, Engineering, Statistics, Mathematics, Computer Science, or a related quantitative discipline.\\n5-10 years of hands-on experience in a data science or analytics role, preferably in financial services. \\nStrong proficiency in Python (Pandas, Numpy, Scikit-learn) and SQL.\\nAbility to write documentation and present analysis to people with different levels of expertise (e.g., technical staff, business leads, etc.).\\nDetail oriented and strong analytical skill set.\\nProactive, driven, and ability to work in a fast-paced environment.\\nNice to Have:\\nExperience in credit risk modeling \\nDesign and maintain end-to-end CICD pipelines (using Kubernetes or GitHub action or other tools) including continuous integration, deployment, and monitoring. Automate model training, evaluation, and deployment workflows\\nLead end-to-end machine learning and data science product from conception to development \\nExperience working with cloud platforms (AWS, GCP, or Azure).\\nKnowledge of big data technologies like Spark or Hadoop.\\nUnderstanding of financial services concepts such as credit scoring, portfolio risk, or customer lifetime value.\\nWhat We Offer You: \\nCompetitive salary and stock option plan\\n100% paid coverage of medical, dental and vision insurance \\nCompetitive 401(k) and RRSP program \\nFlexible PTO\\nOpportunities for professional growth and development \\nPaid parental leave\\nHealth & wellness initiatives\\nWe are an equal opportunity employer and value diversity at our company. We do not discriminate on the basis of race, religion, color, national origin, gender, sexual orientation, age, marital status, veteran status, or disability status. \\nUpgrade does not accept unsolicited resumes from staffing agencies, search firms, or any third parties. Any resume submitted to any employee of Upgrade without a prior written agreement in place will be considered the property of Upgrade, and Upgrade will not be obligated to pay any referral or placement fee. Agencies must obtain advance written approval from Upgrade\\'s Talent Acquisition department to submit resumes and only in conjunction with a valid, fully executed agreement.'},\n",
       " {'id': '1736942727',\n",
       "  'date_posted': '2025-06-13T22:49:57',\n",
       "  'date_created': '2025-06-13T23:09:36.343266',\n",
       "  'title': 'Staff Data Scientist, Notifications',\n",
       "  'organization': 'Pinterest',\n",
       "  'organization_url': None,\n",
       "  'date_validthrough': None,\n",
       "  'locations_raw': [{'@type': 'Place',\n",
       "    'name': 'San Francisco, CA, US',\n",
       "    'address': {'@type': 'PostalAddress',\n",
       "     'name': 'San Francisco, CA, US',\n",
       "     'addressCountry': '',\n",
       "     'addressLocality': 'San Francisco, CA, US'}},\n",
       "   {'@type': 'Place',\n",
       "    'name': 'Remote, US',\n",
       "    'address': {'@type': 'PostalAddress',\n",
       "     'name': 'Remote, US',\n",
       "     'addressCountry': '',\n",
       "     'addressLocality': 'Remote, US'}}],\n",
       "  'locations_alt_raw': None,\n",
       "  'location_type': None,\n",
       "  'location_requirements_raw': None,\n",
       "  'salary_raw': None,\n",
       "  'employment_type': None,\n",
       "  'url': 'https://www.pinterestcareers.com/job-form?gh_jid=6946946',\n",
       "  'source_type': 'ats',\n",
       "  'source': 'greenhouse',\n",
       "  'source_domain': 'www.pinterestcareers.com',\n",
       "  'organization_logo': None,\n",
       "  'cities_derived': ['San Francisco'],\n",
       "  'regions_derived': ['California'],\n",
       "  'countries_derived': ['United States', 'United States'],\n",
       "  'locations_derived': ['San Francisco, California, United States',\n",
       "   'United States'],\n",
       "  'timezones_derived': ['America/Los_Angeles', 'America/New_York'],\n",
       "  'lats_derived': [37.7558, 38.9047],\n",
       "  'lngs_derived': [-122.4449, -77.0163],\n",
       "  'remote_derived': True,\n",
       "  'domain_derived': 'pinterest.com',\n",
       "  'description_text': \"About Pinterest:\\nMillions of people around the world come to our platform to find creative ideas, dream about new possibilities and plan for memories that will last a lifetime. At Pinterest, we’re on a mission to bring everyone the inspiration to create a life they love, and that starts with the people behind the product.\\nDiscover a career where you ignite innovation for millions, transform passion into growth opportunities, celebrate each other’s unique experiences and embrace the flexibility to do your best work. Creating a career you love? It’s Possible.\\nWhat you’ll do:\\nProduct recommendations. Clearly communicate recommendations to product and engineering leadership on how we can evolve our Notifications strategy to address shortcomings observed through deep analysis. \\nDevelop measurement frameworks and metrics to drive data-driven decision making, optimizing for the full user journey. Opportunity sizing and analysis. Write clear, actionable analyses that help teams identify areas of improvement to our growth strategies. \\nThought partner to product, engineering, and ML leadership on the Notifications team to prioritize/scope projects and inform the development of the notifications user experience and corresponding ML systems. \\nImprove machine learning models which power notifications delivery and content, via direct contributions, new features/signals, and/or compelling analyses. \\nLeadership: Lead and mentor the scope of work for at least 2 other data scientists, demonstrating high-quality output of both yourself and others for whom you are responsible.\\nProvide continuous and candid feedback, recognizing individual strengths and contributions and flagging opportunities to improve performance.\\n\\nWhat we’re looking for:\\n8+ years of combined post-graduate academic and industry experience applying scientific methods to solve real-world problems on web-scale data.\\nStrong background in statistics, machine learning, and/or experimentation.\\nBachelor’s/Master’s degree in a relevant field such as Computer Science, or equivalent experience.\\nExpertise in at least one scripting language (ideally Python/R).\\nProficiency in SQL/Hive.\\nStrong business and product sense: delight in shaping vague questions into well-defined analyses and success metrics that drive business decisions.\\nExcellent communication skills: able to lead initiatives across multiple product areas and communicate findings with leadership and product teams through compelling data narratives. \\nExperience working closely with cross-functional teams, iterating on a user product via A/B experimentation. \\nExperience leading key technical projects and substantially influencing the scope and output of others.\\nRelocation Statement:\\nThis position is not eligible for relocation assistance. Visit our PinFlex page to learn more about our working model.\\nIn-Office Requirement Statement:\\nWe let the type of work you do guide the collaboration style. That means we're not always working in an office, but we continue to gather for key moments of collaboration and connection.\\nThis role will need to be in the office for in-person collaboration1-2 times per half and therefore can be situated anywhere in the country.\\n#LI-NM4\\n#LI-REMOTE\\nAt Pinterest we believe the workplace should be equitable, inclusive, and inspiring for every employee. In an effort to provide greater transparency, we are sharing the base salary range for this position. The position is also eligible for equity. Final salary is based on a number of factors including location, travel, relevant prior experience, or particular skills and expertise.\\nInformation regarding the culture at Pinterest and benefits available for this position can be found here.\\nUS based applicants only\\n$163,064—$335,720 USD\\nOur Commitment to Inclusion:\\nPinterest is an equal opportunity employer and makes employment decisions on the basis of merit. We want to have the best qualified people in every job. All qualified applicants will receive consideration for employment without regard to race, color, ancestry, national origin, religion or religious creed, sex (including pregnancy, childbirth, or related medical conditions), sexual orientation, gender, gender identity, gender expression, age, marital status, status as a protected veteran, physical or mental disability, medical condition, genetic information or characteristics (or those of a family member) or any other consideration made unlawful by applicable federal, state or local laws. We also consider qualified applicants regardless of criminal histories, consistent with legal requirements. If you require a medical or religious accommodation during the job application process, please complete this form for support.\"},\n",
       " {'id': '1736745318',\n",
       "  'date_posted': '2025-06-13T21:01:32',\n",
       "  'date_created': '2025-06-13T21:09:25.412016',\n",
       "  'title': 'Data Scientist, Marketing',\n",
       "  'organization': 'Brex',\n",
       "  'organization_url': None,\n",
       "  'date_validthrough': None,\n",
       "  'locations_raw': [{'@type': 'Place',\n",
       "    'name': 'New York, New York, United States',\n",
       "    'address': {'@type': 'PostalAddress',\n",
       "     'name': 'New York, New York, United States',\n",
       "     'addressCountry': '',\n",
       "     'addressLocality': 'New York, New York, United States'}}],\n",
       "  'locations_alt_raw': None,\n",
       "  'location_type': None,\n",
       "  'location_requirements_raw': None,\n",
       "  'salary_raw': None,\n",
       "  'employment_type': None,\n",
       "  'url': 'https://www.brex.com/careers/8037495002?gh_jid=8037495002',\n",
       "  'source_type': 'ats',\n",
       "  'source': 'greenhouse',\n",
       "  'source_domain': 'www.brex.com',\n",
       "  'organization_logo': None,\n",
       "  'cities_derived': None,\n",
       "  'regions_derived': ['New York'],\n",
       "  'countries_derived': ['United States'],\n",
       "  'locations_derived': ['New York, United States'],\n",
       "  'timezones_derived': ['America/New_York'],\n",
       "  'lats_derived': [42.6664],\n",
       "  'lngs_derived': [-73.7987],\n",
       "  'remote_derived': False,\n",
       "  'domain_derived': 'brex.com',\n",
       "  'description_text': \"Why join us\\nBrex is the AI-powered spend platform. We help companies spend with confidence with integrated corporate cards, banking, and global payments, plus intuitive software for travel and expenses. Tens of thousands of companies from startups to enterprises — including DoorDash, Flexport, and Compass — use Brex to proactively control spend, reduce costs, and increase efficiency on a global scale.\\nWorking at Brex allows you to push your limits, challenge the status quo, and collaborate with some of the brightest minds in the industry. We’re committed to building a diverse team and inclusive culture and believe your potential should only be limited by how big you can dream. We make this a reality by empowering you with the tools, resources, and support you need to grow your career.\\nData at Brex\\nOur Scientists and Engineers work together to make data—and the insights derived from marketing data—a core asset across Brex. But it's more than just crunching numbers. The Data team at Brex develops infrastructure, statistical models, and marketing analytics products using data. Our work is foundational to Brex's marketing strategy, campaign measurement, customer engagement programs, and the overall experience we deliver to our customers.\\nWhat You’ll Do\\nAs a Data Scientist, Marketing, you will partner closely with our Marketing, Sales, and Data Science teams to develop analytical frameworks that inform and optimize our marketing strategy across the customer lifecycle. You’ll focus on designing and deploying models for account-based marketing, mixed media modeling (MMM), and multi-touch attribution. Your work will help Brex maximize ROI from marketing investments, improve targeting and personalization, and deliver measurable growth across acquisition, engagement, and retention. You will apply advanced analytics to complex data sets spanning paid, owned, and earned channels, contributing directly to lifecycle marketing programs and experimentation.\\nThe ideal candidate has experience in marketing analytics, especially in account-based marketing, MMM, and attribution modeling. They should have strong business acumen, a deep understanding of modern marketing tech stacks and channels, and the ability to translate technical findings into business actions.\\nWhere you’ll work\\nThis role will be based in our New York office. You must be willing to work in office at least 2 days per week on Wednesday and Thursday. Employees will be able to work remotely for up to 4 weeks per year.\\nResponsibilities:\\nDevelop analytical frameworks and statistical models for account-based marketing, mixed media modeling, and multi-touch attribution across marketing channels.\\nAnalyze campaign performance, channel effectiveness, and customer lifecycle touchpoints to drive strategy adjustments to maximize marketing ROI.\\nCollaborate with Marketing, Sales, and Data Science teams to design, implement, and evaluate experiments (A/B tests, incrementality studies) that inform marketing investment and customer journey optimization.\\nPartner with lifecycle marketing teams to identify key segments, personalize outreach, and optimize engagement and retention strategies.\\nSynthesize large, complex data sets into clear business recommendations; communicate actionable insights to both technical and non-technical stakeholders.\\nBuild and maintain scalable data pipelines and reporting to support ongoing measurement, attribution, and experimentation.\\nRequirements:\\nMaster’s degree or Ph.D. in Statistics, Economics, Marketing Analytics, Computer Science, or a related quantitative field.\\n3+ years of experience in marketing analytics, marketing data science, or related roles supporting B2B or SaaS marketing organizations.\\nStrong experience with SQL and Python (or R) for data analysis and modeling.\\nProficiency in advanced marketing measurement techniques, including MMM, multi-touch attribution, and customer segmentation.\\nFamiliarity with digital marketing data, modern marketing platforms (e.g., Salesforce, Marketo, HubSpot), and common paid, owned, and earned channels.\\nAbility to synthesize complex analyses into actionable business insights and communicate findings to stakeholders.\\nExperience with experimentation, A/B testing, and causal inference methodologies.\\nBonus Points:\\nExperience working in B2B SaaS or fintech, especially supporting demand generation and account-based marketing programs.\\nFamiliarity with customer journey analytics, advanced personalization, or recommendation systems.\\nExperience working with marketing automation, CRM, and data integration tools.\\nKnowledge of adtech, martech, and data privacy best practices.\\nThis role offers a unique opportunity to shape the future of marketing analytics at Brex while working with a world-class data and marketing team. If you are passionate about using data science to drive smarter marketing decisions, we’d love to hear from you!\\nCompensation\\nThe expected salary range for this role is $152,000 - $190,000. However, the starting base pay will depend on a number of factors including the candidate’s location, skills, experience, market demands, and internal pay parity. Depending on the position offered, equity and other forms of compensation may be provided as part of a total compensation package.\\nPlease be aware, job-seekers may be at risk of targeting by malicious actors looking for personal data. Brex recruiters will only reach out via LinkedIn or email with a brex.com domain. Any outreach claiming to be from Brex via other sources should be ignored.\"},\n",
       " {'id': '1736745328',\n",
       "  'date_posted': '2025-06-13T20:59:07',\n",
       "  'date_created': '2025-06-13T21:09:25.932124',\n",
       "  'title': 'Data Scientist, Marketing',\n",
       "  'organization': 'Brex',\n",
       "  'organization_url': None,\n",
       "  'date_validthrough': None,\n",
       "  'locations_raw': [{'@type': 'Place',\n",
       "    'name': 'San Francisco, California, United States',\n",
       "    'address': {'@type': 'PostalAddress',\n",
       "     'name': 'San Francisco, California, United States',\n",
       "     'addressCountry': '',\n",
       "     'addressLocality': 'San Francisco, California, United States'}}],\n",
       "  'locations_alt_raw': None,\n",
       "  'location_type': None,\n",
       "  'location_requirements_raw': None,\n",
       "  'salary_raw': None,\n",
       "  'employment_type': None,\n",
       "  'url': 'https://www.brex.com/careers/8037486002?gh_jid=8037486002',\n",
       "  'source_type': 'ats',\n",
       "  'source': 'greenhouse',\n",
       "  'source_domain': 'www.brex.com',\n",
       "  'organization_logo': None,\n",
       "  'cities_derived': ['San Francisco'],\n",
       "  'regions_derived': ['California'],\n",
       "  'countries_derived': ['United States'],\n",
       "  'locations_derived': ['San Francisco, California, United States'],\n",
       "  'timezones_derived': ['America/Los_Angeles'],\n",
       "  'lats_derived': [37.7558],\n",
       "  'lngs_derived': [-122.4449],\n",
       "  'remote_derived': False,\n",
       "  'domain_derived': 'brex.com',\n",
       "  'description_text': \"Why join us\\nBrex is the AI-powered spend platform. We help companies spend with confidence with integrated corporate cards, banking, and global payments, plus intuitive software for travel and expenses. Tens of thousands of companies from startups to enterprises — including DoorDash, Flexport, and Compass — use Brex to proactively control spend, reduce costs, and increase efficiency on a global scale.\\nWorking at Brex allows you to push your limits, challenge the status quo, and collaborate with some of the brightest minds in the industry. We’re committed to building a diverse team and inclusive culture and believe your potential should only be limited by how big you can dream. We make this a reality by empowering you with the tools, resources, and support you need to grow your career.\\nData at Brex\\nOur Scientists and Engineers work together to make data—and the insights derived from marketing data—a core asset across Brex. But it's more than just crunching numbers. The Data team at Brex develops infrastructure, statistical models, and marketing analytics products using data. Our work is foundational to Brex's marketing strategy, campaign measurement, customer engagement programs, and the overall experience we deliver to our customers.\\nWhat You’ll Do\\nAs a Data Scientist, Marketing, you will partner closely with our Marketing, Sales, and Data Science teams to develop analytical frameworks that inform and optimize our marketing strategy across the customer lifecycle. You’ll focus on designing and deploying models for account-based marketing, mixed media modeling (MMM), and multi-touch attribution. Your work will help Brex maximize ROI from marketing investments, improve targeting and personalization, and deliver measurable growth across acquisition, engagement, and retention. You will apply advanced analytics to complex data sets spanning paid, owned, and earned channels, contributing directly to lifecycle marketing programs and experimentation.\\nThe ideal candidate has experience in marketing analytics, especially in account-based marketing, MMM, and attribution modeling. They should have strong business acumen, a deep understanding of modern marketing tech stacks and channels, and the ability to translate technical findings into business actions.\\nWhere you’ll work\\nThis role will be based in our San Francisco office. You must be willing to work in office at least 2 days per week on Wednesday and Thursday. Employees will be able to work remotely for up to 4 weeks per year.\\nResponsibilities:\\nDevelop analytical frameworks and statistical models for account-based marketing, mixed media modeling, and multi-touch attribution across marketing channels.\\nAnalyze campaign performance, channel effectiveness, and customer lifecycle touchpoints to drive strategy adjustments to maximize marketing ROI.\\nCollaborate with Marketing, Sales, and Data Science teams to design, implement, and evaluate experiments (A/B tests, incrementality studies) that inform marketing investment and customer journey optimization.\\nPartner with lifecycle marketing teams to identify key segments, personalize outreach, and optimize engagement and retention strategies.\\nSynthesize large, complex data sets into clear business recommendations; communicate actionable insights to both technical and non-technical stakeholders.\\nBuild and maintain scalable data pipelines and reporting to support ongoing measurement, attribution, and experimentation.\\nRequirements:\\nMaster’s degree or Ph.D. in Statistics, Economics, Marketing Analytics, Computer Science, or a related quantitative field.\\n3+ years of experience in marketing analytics, marketing data science, or related roles supporting B2B or SaaS marketing organizations.\\nStrong experience with SQL and Python (or R) for data analysis and modeling.\\nProficiency in advanced marketing measurement techniques, including MMM, multi-touch attribution, and customer segmentation.\\nFamiliarity with digital marketing data, modern marketing platforms (e.g., Salesforce, Marketo, HubSpot), and common paid, owned, and earned channels.\\nAbility to synthesize complex analyses into actionable business insights and communicate findings to stakeholders.\\nExperience with experimentation, A/B testing, and causal inference methodologies.\\nBonus Points:\\nExperience working in B2B SaaS or fintech, especially supporting demand generation and account-based marketing programs.\\nFamiliarity with customer journey analytics, advanced personalization, or recommendation systems.\\nExperience working with marketing automation, CRM, and data integration tools.\\nKnowledge of adtech, martech, and data privacy best practices.\\nThis role offers a unique opportunity to shape the future of marketing analytics at Brex while working with a world-class data and marketing team. If you are passionate about using data science to drive smarter marketing decisions, we’d love to hear from you!\\nCompensation\\nThe expected salary range for this role is $152,000 - $190,000. However, the starting base pay will depend on a number of factors including the candidate’s location, skills, experience, market demands, and internal pay parity. Depending on the position offered, equity and other forms of compensation may be provided as part of a total compensation package.\\nPlease be aware, job-seekers may be at risk of targeting by malicious actors looking for personal data. Brex recruiters will only reach out via LinkedIn or email with a brex.com domain. Any outreach claiming to be from Brex via other sources should be ignored.\"},\n",
       " {'id': '1736809112',\n",
       "  'date_posted': '2025-06-13T20:54:09',\n",
       "  'date_created': '2025-06-13T21:40:38.118755',\n",
       "  'title': 'Staff Data Scientist, Growth Analytics',\n",
       "  'organization': 'Coupang Internal',\n",
       "  'organization_url': None,\n",
       "  'date_validthrough': None,\n",
       "  'locations_raw': [{'@type': 'Place',\n",
       "    'name': 'Mountain View, USA',\n",
       "    'address': {'@type': 'PostalAddress',\n",
       "     'name': 'Mountain View, USA',\n",
       "     'addressCountry': '',\n",
       "     'addressLocality': 'Mountain View, USA'}}],\n",
       "  'locations_alt_raw': None,\n",
       "  'location_type': None,\n",
       "  'location_requirements_raw': None,\n",
       "  'salary_raw': None,\n",
       "  'employment_type': None,\n",
       "  'url': 'https://boards.greenhouse.io/coupanginternal/jobs/6853106?gh_jid=6853106',\n",
       "  'source_type': 'ats',\n",
       "  'source': 'greenhouse',\n",
       "  'source_domain': 'boards.greenhouse.io',\n",
       "  'organization_logo': None,\n",
       "  'cities_derived': ['Mountain View'],\n",
       "  'regions_derived': ['California'],\n",
       "  'countries_derived': ['United States'],\n",
       "  'locations_derived': ['Mountain View, California, United States'],\n",
       "  'timezones_derived': ['America/Los_Angeles'],\n",
       "  'lats_derived': [37.4001],\n",
       "  'lngs_derived': [-122.0796],\n",
       "  'remote_derived': False,\n",
       "  'domain_derived': 'coupang.com',\n",
       "  'description_text': 'Please complete the attached the Internal Transfer Request Form and submit it.\\nPlease make sure you are applying with your Coupang e-mail address.\\nOur Analytics team has a mission to power the growth of Coupang through data-driven insights. We are a team of creative problem solvers with a passion to deliver innovative business solutions. The team leverages big data to empower business decisions and deliver insights, metrics and tools in order to drive customer engagement, retention and business growth. As the growth engine within one of the largest and fastest growing e-commerce platforms on the planet, Coupang’s analytics team offers countless ways for an ambitious data scientist to make an impact.\\n\\nKey Responsibilities\\nBuild machine learning models, perform proof-of-concept, experiment, optimize and deploy your models into production. \\nEstablish scalable, efficient, automated processes for data analysis, machine-learning model development, model validation and serving. \\nWork with a team of high-performing analytics, data science professionals, and cross-functional teams to identify business opportunities, optimize product performance or marketing efforts.\\nAnalyze large-scale structured and unstructured data; develop deep-dive analyses and machine learning models to drive customer engagement and retention.\\nDesign and develop core business metrics, create insightful automated dashboards and data visualization to track them and extract useful business insights.\\nDesign and analyze experiments to test new product ideas or marketing strategies. Convert the results into actionable recommendations.\\nCraft compelling stories; make logical recommendations; drive informed actions.\\nCommunicate findings to senior leaders and evangelize data-driven business decisions\\nBasic Qualifications\\nMaster’s degree in a quantitative field - Computer Science, Mathematics, Engineering or related fields;\\n8+ years of work experience involving quantitative data analysis and machine learning models projects.\\nProgramming language required including python, R, spark\\nDatabase experience with advanced SQL or SQL-like skills (Hadoop-Hive); experience researching and manipulating complex and large datasets;\\n8+ years working experience in the engineering teams that build large-scale ML-driven user-facing products \\nExperience with state of the art ML modeling techniques and approaches\\nHands-on experience training and applying models at scale. \\nAbility to communicate information effectively to a variety of groups at different levels.\\nWillingness to dig-in and understand the data and to leverage creative thinking and problem-solving skills are absolute musts.\\nSelf-starter who takes the initiative to get things done.\\nOutstanding team player with a customer-back mindset\\nPreferred Qualifications\\nExperience with manipulating massive-scale customer and clickstream data.\\nExperience with causal inference and/or reinforcement learning such as Multi-arm bandit\\nExperience with Hadoop or other MapReduce paradigms, and associated languages such as Pig, Hive, etc.\\nExcellent communications skills, with the ability to synthesize, simplify and explain complex problems to different types of audience, including executives\\nExperience in working on, backend and ML systems for large-scale user-facing products, and have a good understanding of how they all work. \\nSearch engine bidding experience and knowledge'},\n",
       " {'id': '1736754713',\n",
       "  'date_posted': '2025-06-13T20:53:07',\n",
       "  'date_created': '2025-06-13T21:16:46.112844',\n",
       "  'title': 'Staff Data Scientist, Growth Analytics',\n",
       "  'organization': 'Coupang',\n",
       "  'organization_url': None,\n",
       "  'date_validthrough': None,\n",
       "  'locations_raw': [{'@type': 'Place',\n",
       "    'name': 'Mountain View, USA',\n",
       "    'address': {'@type': 'PostalAddress',\n",
       "     'name': 'Mountain View, USA',\n",
       "     'addressCountry': '',\n",
       "     'addressLocality': 'Mountain View, USA'}}],\n",
       "  'locations_alt_raw': None,\n",
       "  'location_type': None,\n",
       "  'location_requirements_raw': None,\n",
       "  'salary_raw': None,\n",
       "  'employment_type': None,\n",
       "  'url': 'https://www.coupang.jobs/en/jobs/?gh_jid=6853105',\n",
       "  'source_type': 'ats',\n",
       "  'source': 'greenhouse',\n",
       "  'source_domain': 'www.coupang.jobs',\n",
       "  'organization_logo': None,\n",
       "  'cities_derived': ['Mountain View'],\n",
       "  'regions_derived': ['California'],\n",
       "  'countries_derived': ['United States'],\n",
       "  'locations_derived': ['Mountain View, California, United States'],\n",
       "  'timezones_derived': ['America/Los_Angeles'],\n",
       "  'lats_derived': [37.4001],\n",
       "  'lngs_derived': [-122.0796],\n",
       "  'remote_derived': False,\n",
       "  'domain_derived': 'coupang.com',\n",
       "  'description_text': 'Company Introduction \\nWe exist to wow our customers. We know we’re doing the right thing when we hear our customers say, “How did we ever live without Coupang?” Born out of an obsession to make shopping, eating, and living easier than ever, we’re collectively disrupting the multi-billion-dollar e-commerce industry from the ground up. We are one of the fastest-growing e-commerce companies that established an unparalleled reputation for being a dominant and reliable force in South Korean commerce. \\nWe are proud to have the best of both worlds — a startup culture with the resources of a large global public company. This fuels us to continue our growth and launch new services at the speed we have been since our inception. We are all entrepreneurs surrounded by opportunities to drive new initiatives and innovations. At our core, we are bold and ambitious people that like to get our hands dirty and make a hands-on impact. At Coupang, you will see yourself, your colleagues, your team, and the company grow every day. \\nOur mission to build the future of commerce is real. We push the boundaries of what’s possible to solve problems and break traditional tradeoffs. Join Coupang now to create an epic experience in this always-on, high-tech, and hyper-connected world. \\nOur Analytics team has a mission to power the growth of Coupang through data-driven insights. We are a team of creative problem solvers with a passion to deliver innovative business solutions. The team leverages big data to empower business decisions and deliver insights, metrics and tools in order to drive customer engagement, retention and business growth. As the growth engine within one of the largest and fastest growing e-commerce platforms on the planet, Coupang’s analytics team offers countless ways for an ambitious data scientist to make an impact.\\n\\nKey Responsibilities\\nBuild machine learning models, perform proof-of-concept, experiment, optimize and deploy your models into production. \\nEstablish scalable, efficient, automated processes for data analysis, machine-learning model development, model validation and serving. \\nWork with a team of high-performing analytics, data science professionals, and cross-functional teams to identify business opportunities, optimize product performance or marketing efforts.\\nAnalyze large-scale structured and unstructured data; develop deep-dive analyses and machine learning models to drive customer engagement and retention.\\nDesign and develop core business metrics, create insightful automated dashboards and data visualization to track them and extract useful business insights.\\nDesign and analyze experiments to test new product ideas or marketing strategies. Convert the results into actionable recommendations.\\nCraft compelling stories; make logical recommendations; drive informed actions.\\nCommunicate findings to senior leaders and evangelize data-driven business decisions\\nBasic Qualifications\\nMaster’s degree in a quantitative field - Computer Science, Mathematics, Engineering or related fields;\\n8+ years of work experience involving quantitative data analysis and machine learning models projects.\\nProgramming language required including python, R, spark\\nDatabase experience with advanced SQL or SQL-like skills (Hadoop-Hive); experience researching and manipulating complex and large datasets;\\n8+ years working experience in the engineering teams that build large-scale ML-driven user-facing products \\nExperience with state of the art ML modeling techniques and approaches\\nHands-on experience training and applying models at scale. \\nAbility to communicate information effectively to a variety of groups at different levels.\\nWillingness to dig-in and understand the data and to leverage creative thinking and problem-solving skills are absolute musts.\\nSelf-starter who takes the initiative to get things done.\\nOutstanding team player with a customer-back mindset\\nPreferred Qualifications\\nExperience with manipulating massive-scale customer and clickstream data.\\nExperience with causal inference and/or reinforcement learning such as Multi-arm bandit\\nExperience with Hadoop or other MapReduce paradigms, and associated languages such as Pig, Hive, etc.\\nExcellent communications skills, with the ability to synthesize, simplify and explain complex problems to different types of audience, including executives\\nExperience in working on, backend and ML systems for large-scale user-facing products, and have a good understanding of how they all work. \\nSearch engine bidding experience and knowledge\\nPay & Benefits \\nOur compensation reflects the cost of living across several US geographic markets. At Coupang, your base pay is one part of your total compensation. \\nThe base pay for this position ranges from $138,000/year in our lowest geographic market to $297,000/year in our highest geographic market. Pay is based on several factors including market location and may vary depending on job-related knowledge, skills, and experience. \\nGeneral Description of All Benefits (Drafter: Please check with your team if any change on the benefit description) \\nMedical/Dental/Vision/Life, AD&D insurance \\nFlexible Spending Accounts (FSA) & Health Savings Account (HSA) \\nLong-term/Short-term Disability \\nEmployee Assistance Program (EAP) program \\n401K Plan with Company Match \\n18-21 days of the Paid Time Off (PTO) a year based on the tenure \\n12 Paid Holidays \\nXX weeks of Paid Parental leave \\nPre-tax commuter benefits \\nMTV - [Free] Electric Car Charging Station \\nGeneral Description of Other Compensation \\n“Other Compensation” includes, but is not limited to, bonuses, equity, or other forms of compensation that would be offered to the hired applicant in addition to their established salary range or wage scale. \\nRecruitment Process and Others \\nRecruitment Process \\nApplication Review - Phone Interview - Onsite (or Virtual Onsite) Interview – Offer \\nThe exact nature of the recruitment process may vary according to the specific job and may be changed due to scheduling or other circumstances. \\nInterview schedules and the results will be informed to the applicant via the e-mail address submitted at the application stage. \\nDetails to Consider \\nThis job posting may be closed prior to the stated end date for application if all openings are filled. \\nCoupang has the right to rescind an offer of employment if a candidate is found to have submitted false information as part of the application process. \\nCoupang does not discriminate against disabled applicants or those with veteran status. We are proud to offer equal opportunities for all applicants. \\nPrivacy Notice\\u200b \\nYour personal information will be collected and managed by Coupang as stated in the Application Privacy Notice located below: https://www.coupang.jobs/privacy-policy/\\u200b \\nCoupang is an equal opportunity employer. All qualified applicants will receive consideration for employment without regard to race, color, religion, sex, or gender (including pregnancy, gender identity, gender expression, sexual orientation, transgender status), national origin, age, disability, medical condition, HIV/AIDS or Hepatitis C status, marital status, military or veteran status, use of a trained dog guide or service animal, political activities, or affiliations, citizenship, or any other characteristic or class protected by the laws or regulations in the locations where we operate. If you need assistance and/or reasonable accommodation in the recruiting process due to a disability, please contact us at usrecruiting@coupang.com. \\nJob Requisition ID: R0058606'},\n",
       " {'id': '1736788219',\n",
       "  'date_posted': '2025-06-13T20:29:00',\n",
       "  'date_created': '2025-06-13T21:30:14.27326',\n",
       "  'title': 'Data Scientist',\n",
       "  'organization': 'Microsoft',\n",
       "  'organization_url': 'https://www.microsoft.com',\n",
       "  'date_validthrough': None,\n",
       "  'locations_raw': [{'@type': 'Place',\n",
       "    'address': {'@type': 'PostalAddress',\n",
       "     'addressLocality': 'Redmond, Washington, United States'}}],\n",
       "  'locations_alt_raw': None,\n",
       "  'location_type': None,\n",
       "  'location_requirements_raw': None,\n",
       "  'salary_raw': None,\n",
       "  'employment_type': ['Full-Time'],\n",
       "  'url': 'https://jobs.careers.microsoft.com/global/en/job/1830276',\n",
       "  'source_type': 'ats',\n",
       "  'source': 'in-house',\n",
       "  'source_domain': 'careers.microsoft.com',\n",
       "  'organization_logo': None,\n",
       "  'cities_derived': ['Redmond'],\n",
       "  'regions_derived': ['Washington'],\n",
       "  'countries_derived': ['United States'],\n",
       "  'locations_derived': ['Redmond, Washington, United States'],\n",
       "  'timezones_derived': ['America/Los_Angeles'],\n",
       "  'lats_derived': [47.6763],\n",
       "  'lngs_derived': [-122.1169],\n",
       "  'remote_derived': False,\n",
       "  'domain_derived': 'microsoft.com',\n",
       "  'description_text': 'Microsoft Advertising (MSA) is a worldwide organization on the cutting edge of\\nthe digital advertising industry. We are the engine that powers the buying and\\nselling of digital advertising across all aspects of our digital portfolio\\nincluding our high-growth search engine, Bing, and consumer services like MSN,\\nMicrosoft News, Xbox, and Outlook.\\n\\n\\nMarket Sciences Team in MSA is hiring talented, highly motivated and productive\\nindividuals with expertise in the areas of: Computer Science, Machine Learning,\\nEconometrics, Statistics, Modeling, Simulation and Data Mining. The team\\ndevelops and applies advanced techniques to turn our petabytes of data into\\ninsights; and to drive actions based on those insights. The team works closely\\nwith partners across MSA to enable rigorous, effective, and data-driven decision\\nmaking. Some examples of the challenges we face:\\n\\n * Lead Scoring and Qualification, Customer retention and Churn, Customer\\n   Segmentation and forecasting performance.\\n * Campaign Effectiveness and ROI Measurement.\\n * Understanding Advertiser value, lifecycle, opportunity, and marketing\\n   objectives.\\n * Designing metrics to measure and track Microsoft advertiser demand health and\\n   inform/guide sales and marketing execution.\\n * Designing and analyzing the results of online and offline experiments. Using\\n   quasi-experiments and counterfactuals to understand the causality in\\n   scenarios where AB testing is not feasible.\\n * Prototyping algorithms for creating, managing, and optimizing demand\\n   generation activities through sales, marketing, and product to support our\\n   marketplace.\\n * Defining metrics and building a measurement framework to quantify the impact\\n   and incrementality of various sales and marketing programs.\\n\\nAs a Data Scientist in MSA Market Science Team, you will have the opportunity to\\napply your data science skills to have a real impact on Microsoft’s business,\\nour advertising partners, and millions of end users. This role is a unique\\nopportunity to work with a world-class, interdisciplinary group of data\\nscientists, analysts, sales, and product managers.\\n\\n\\xa0\\n\\nThis role is flexible in that you can work up to 50% from home.\\n\\n\\nMicrosoft’s mission is to empower every person and every organization on the\\nplanet to achieve more. As employees we come together with a growth mindset,\\ninnovate to empower others, and collaborate to realize our shared goals. Each\\nday we build on our values of respect, integrity, and accountability to create a\\nculture of inclusion where everyone can thrive at work and beyond.'},\n",
       " {'id': '1736523613',\n",
       "  'date_posted': '2025-06-13T18:31:13.703',\n",
       "  'date_created': '2025-06-13T18:35:06.154172',\n",
       "  'title': 'Machine Learning Data Scientist – Health Incubation',\n",
       "  'organization': 'Apple',\n",
       "  'organization_url': 'https://www.apple.com',\n",
       "  'date_validthrough': None,\n",
       "  'locations_raw': [{'@type': 'Place',\n",
       "    'address': {'@type': 'PostalAddress',\n",
       "     'addressCountry': 'United States',\n",
       "     'addressLocality': 'Cupertino',\n",
       "     'addressRegion': 'California'}}],\n",
       "  'locations_alt_raw': None,\n",
       "  'location_type': None,\n",
       "  'location_requirements_raw': None,\n",
       "  'salary_raw': None,\n",
       "  'employment_type': None,\n",
       "  'url': 'https://jobs.apple.com/en-us/details/200608749',\n",
       "  'source_type': 'ats',\n",
       "  'source': 'in-house',\n",
       "  'source_domain': 'jobs.apple.com',\n",
       "  'organization_logo': None,\n",
       "  'cities_derived': ['Cupertino'],\n",
       "  'regions_derived': ['California'],\n",
       "  'countries_derived': ['United States'],\n",
       "  'locations_derived': ['Cupertino, California, United States'],\n",
       "  'timezones_derived': ['America/Los_Angeles'],\n",
       "  'lats_derived': [37.3168],\n",
       "  'lngs_derived': [-122.0466],\n",
       "  'remote_derived': False,\n",
       "  'domain_derived': 'apple.com',\n",
       "  'description_text': '\"I believe, if you zoom out into the future, and you look back, and you ask the\\nquestion, \\'What was Apple’s greatest contribution to mankind?\\' It will be about\\nhealth.” – Tim Cook, 2019 Would you like to be a critical part of an engineering\\nteam building next-generation features to improve health using sensing\\ntechnologies? The Health Incubation team builds outstanding technologies to\\nsupport our users in living their healthiest, happiest lives by providing them\\nwith objective, accurate, and timely information about their health and\\nwell-being! As part of the larger Sensor SW & Prototyping team, we take a\\nmultimodal approach to health sensing, using a variety of sensors across HW\\nplatforms, such as camera, PPG, inertial motion, temperature.\\n\\n\\nDESCRIPTION\\n\\n\\nIn this role, you will be applying your in-depth knowledge of AI/ML, algorithms,\\ndata science, statistical analysis, and human physiology to explore novel\\nfeature concepts and build algorithms and ML models to support them. You will be\\nworking with other ML Scientists, Data/Integrity Engineers, Health Studies,\\nHardware, Clinical, and Regulatory teams to define specifications, develop\\ninstrumentation and experiments to analyze large datasets and assist with ML\\ndevelopment, and perform failure analysis.\\n\\n\\nMINIMUM QUALIFICATIONS\\n\\n\\nMasters in BME/CS/CE/EECS/Math/Physics or equivalent experience Experience with\\nmachine learning, statistical analysis, signal processing, and scientific\\nreasoning Experience with large scale data solutions with distributed data\\nprocessing frameworks (e.g. MapReduce, Spark) and designing/optimizing scalable\\nframeworks to run ML experiments Excellent communication skills, comfortable in\\na collaborative and innovative development environment\\n\\n\\nPREFERRED QUALIFICATIONS\\n\\n\\nPh.D in BME/CS/CE/EECS/Math/Physics or equivalent experience Experience with\\nfailure analysis and root cause analysis techniques such as hypothesis testing\\nand experiment design Experience in designing specifications, human research\\nstudies, requirements and evaluation'},\n",
       " {'id': '1736429335',\n",
       "  'date_posted': '2025-06-13T17:25:22.387',\n",
       "  'date_created': '2025-06-13T17:30:45.716564',\n",
       "  'title': 'Data Scientist- Decision Science',\n",
       "  'organization': \"Domino's\",\n",
       "  'organization_url': None,\n",
       "  'date_validthrough': None,\n",
       "  'locations_raw': [{'address': {'streetAddress': '30 Frank Lloyd Wright Drive',\n",
       "     'addressLocality': 'Ann Arbor',\n",
       "     'addressRegion': 'Michigan',\n",
       "     'postalCode': '48105',\n",
       "     'addressCountry': 'United States'}}],\n",
       "  'locations_alt_raw': ['30 Frank Lloyd Wright Dr, Ann Arbor, MI 48105, USA'],\n",
       "  'location_type': None,\n",
       "  'location_requirements_raw': None,\n",
       "  'salary_raw': None,\n",
       "  'employment_type': ['Full-time'],\n",
       "  'url': 'https://jobs.smartrecruiters.com/Dominos/744000065096545-data-scientist-decision-science-',\n",
       "  'source_type': 'ats',\n",
       "  'source': 'smartrecruiters',\n",
       "  'source_domain': 'jobs.smartrecruiters.com',\n",
       "  'organization_logo': None,\n",
       "  'cities_derived': ['Ann Arbor'],\n",
       "  'regions_derived': ['Michigan'],\n",
       "  'countries_derived': ['United States'],\n",
       "  'locations_derived': ['Ann Arbor, Michigan, United States'],\n",
       "  'timezones_derived': ['America/Detroit'],\n",
       "  'lats_derived': [42.2759],\n",
       "  'lngs_derived': [-83.731],\n",
       "  'remote_derived': False,\n",
       "  'domain_derived': 'dominos.com',\n",
       "  'description_text': \"Company DescriptionDomino’s Pizza, which began in 1960 as a single store location in Ypsilanti, MI, has had a lot to celebrate lately: we’re a reshaped, reenergized brand of honesty, transparency and accountability – not to mention, great food! In the rise to becoming a true technology leader, the brand is now consistently one of the top five companies in online transactions and 65% of our sales in the U.S. are taken through digital channels. The brand continues to ‘deliver the dream’ to local business owners, 90% of which started as delivery drivers and pizza makers in our stores. That’s just the tip of the iceberg…or as we might say, one “slice” of the pie! If this sounds like a brand you’d like to be a part of, consider joining our team!Job DescriptionThe Decision Science team is critical in driving Domino’s industry-leading growth by pairing strategic thought leadership with the latest analytic techniques in the fields of data science, machine learning, artificial intelligence, and primary research. The Decision Science team leverages their skills to drive outstanding consumer and employee experiences to fuel future growth.The National Campaign Decision Science team works cross functionally to ensure a best-in-class experience for our customers. Analytics provided by this team play a key role in shaping Domino’s National Advertising Calendar. As a Data Scientist on the National Campaign Decision Science team, you will work closely with National Marketing, Product Innovation, and IT to develop strategy, analytics and roll out plans for national advertising campaigns. You will also conduct analysis and form insights to grow reach, orders and profitability of National Windows.For this role, we are seeking someone with a deep understanding of social patterns and human behavior who possesses a strong analytical skillset. The candidate should be skilled in using multiple data sources, SQL, statistical programming and measurement methodologies for working with surveys and first party data. The ideal candidate will have a background in quantitative economics, sociology, psychology, or political science.\\xa0RESPONSIBILITIES AND DUTIES\\xa0Leverage internal datasets, market trends, consumer behavior, and competitive analysis to inform decisions that will put Domino’s in the best position for successHelp build the business case for each product innovation or value campaign conceptForecast order volume, product mix, or other relevant metrics to inform supply chain & store operators ahead of each national campaign activationProvide campaign analysis to socialize learnings and actionable recommendations that will be used to inform future campaign plansImplement and leverage automation tools to streamline the generation and sharing of insightsPresent findings and business recommendations to decision-makers using clear and effective written or visual presentations of quantitative dataResponsible for delivering material impact to the organization’s performance by fostering analytical partnership with marketing teams, identifying and executing against analytics-based business opportunities, and developing analytic approaches & reports that improve the efficiency of the marketing organization.Develop data collection strategies and analysis plans, specifying requirements to IT in collaboration with product owners.Extract, scrub, organize data to build datasets for analysis\\xa0Identify and apply appropriate analytical methods to glean insights from the data\\xa0Translate results into business recommendations or interpretations\\xa0Use visualization, reporting and other tools to improve the ways in which team accesses and interprets datasets\\xa0QualificationsBachelor's degree in Economics, Sociology, Psychology, Political Science or related quantitative social science field\\xa02+ years of experience in a quantitative or technical work environment\\xa0\\xa0Strong experience solving business problems with data science, emphasis on business outcomes.Proficient in SQL, R or PythonExperience working in cross-functional teams focused on: Business/Financial Analysis, Promotional Analytics, Customer Analytics, Media Analytics, etc.Fundamental knowledge of predictive modeling, segmentation analysis, data mining.Knowledge of advanced statistical techniques and concepts (regression, probability, properties of distributions, statistical tests, etc.) and experience with applications\\xa0Ability to self-start and self-direct work in a dynamic, cross-functional environmentExcellent written and verbal communication skills with the ability to engage, influence, and encourage partners and team members to drive collaboration and alignmentExperience communicating analysis results with a diverse non-technical audienceAdditional InformationBenefits:\\n•\\xa0\\xa0 \\xa0Paid Holidays and Vacation\\u202f\\u202f\\xa0\\n•\\xa0\\xa0 \\xa0Medical, Dental & Vision benefits that start on the first day of employment\\n•\\xa0\\xa0 \\xa0No-cost mental health support for employee and dependents\\n•\\xa0\\xa0 \\xa0Childcare tuition discounts\\n•\\xa0\\xa0 \\xa0No-cost fitness, nutrition, and wellness programs\\xa0\\n•\\xa0\\xa0 \\xa0Fertility benefits\\n•\\xa0\\xa0 \\xa0Adoption assistance\\n•\\xa0\\xa0 \\xa0401k matching contributions\\u202f\\u202f\\xa0\\n•\\xa0\\xa0 \\xa015% off the purchase price of stock\\u202f\\u202f\\xa0\\n•\\xa0\\xa0 \\xa0Company bonus\\u202f\\u202f\\xa0\\n\\xa0\\n\\xa0\"},\n",
       " {'id': '1736430791',\n",
       "  'date_posted': '2025-06-13T17:01:57',\n",
       "  'date_created': '2025-06-13T17:31:54.303283',\n",
       "  'title': 'Data Scientist',\n",
       "  'organization': 'Core One',\n",
       "  'organization_url': None,\n",
       "  'date_validthrough': None,\n",
       "  'locations_raw': [{'@type': 'Place',\n",
       "    'name': 'Tampa, FL',\n",
       "    'address': {'@type': 'PostalAddress',\n",
       "     'name': 'Tampa, FL',\n",
       "     'addressCountry': '',\n",
       "     'addressLocality': 'Tampa, FL'}}],\n",
       "  'locations_alt_raw': None,\n",
       "  'location_type': None,\n",
       "  'location_requirements_raw': None,\n",
       "  'salary_raw': None,\n",
       "  'employment_type': None,\n",
       "  'url': 'https://job-boards.greenhouse.io/coreone/jobs/8037073002',\n",
       "  'source_type': 'ats',\n",
       "  'source': 'greenhouse',\n",
       "  'source_domain': 'job-boards.greenhouse.io',\n",
       "  'organization_logo': None,\n",
       "  'cities_derived': ['Tampa'],\n",
       "  'regions_derived': ['Florida'],\n",
       "  'countries_derived': ['United States'],\n",
       "  'locations_derived': ['Tampa, Florida, United States'],\n",
       "  'timezones_derived': ['America/New_York'],\n",
       "  'lats_derived': [27.9945],\n",
       "  'lngs_derived': [-82.4447],\n",
       "  'remote_derived': False,\n",
       "  'domain_derived': 'coreone.com',\n",
       "  'description_text': \"Join our team at Core One! Our mission is to be at the forefront of devising analytical, operational and technical solutions to our Nation's most complex national security challenges. In order to achieve our mission, Core One values people first! We are committed to recruiting, nurturing, and retaining top talent! We offer a competitive total compensation package that sets us apart from our competition. Core One is a team-oriented, dynamic, and growing company that values exceptional performance!\\nAssist the Resources and Analysis Directorate in the development and documentation of detailed data requirements for application systems in a logical data model. Develop the analysis, creation, acquisition, maintenance, and use characteristics of the data identified. Ensure compliance with data management policies, guidance, and standards. Evaluate data reuse, data integration, and data compliance and develop strategies based on stewardship and authorities. Develop physical schemas that address functional and technical requirements for the database including data sharing as appropriate. Develop, construct, test, and maintain data architectures. Develop information displays, decision briefings, analytical papers, and facilitate senior leader discussions. \\nBasic Qualifications:\\n- 10 years of distributed experience with Operations Research and System Analysis (ORSA), Data Science, or Data Engineering\\n- 5 years of experience in Data Engineering\\n- Experience and proficiency in developing analytic methodologies, metrics, and decision criteria\\n- Experience with data warehousing, data ingestion, and data profiling\\n- Experience with data processing tools, in particular SQL and pandas\\n- Experience in development within Python or other object-oriented languages\\n- Experience in read, extract, transform, stage, and load data to create data pipelines\\n- Ability to explore new tools and technologies that will help to improve ETL platform performance\\n- TS/SCI clearance\\n- M.A. or M.S. degree in OR, Data Science, Data Engineering, or Applied Mathematics preferred\\nAdditional Qualifications:\\n- Experience with Joint planning and military service a plus\\n- Experience with the United States Central Command Area of Responsibility a plus\\n- Experience with forecasting models a plus\\n- Experience with cloud environments (Azure, AWS, etc.) a plus\\n- Experience in Advana or Maven platforms a plus\\n- Experience in developing and deploying data unit testing/data quality assessment tools a plus\\n- Experience with preparing and presenting senior leadership briefings and papers a plus\\n- Excellent oral and written communication skills a plus\\nClearance: Applicants selected will be subject to a security investigation and may need to meet eligibility requirements for access to classified information; TS/SCI clearance is required.\\nCore One is an Equal Opportunity Employer. All qualified applicants will receive consideration for employment without regard to race, color, religion, sex, gender identity, sexual orientation, national origin, or protected veteran status and will not be discriminated against on the basis of disability.\\n__PRESENT\"}]"
      ]
     },
     "execution_count": 13,
     "metadata": {},
     "output_type": "execute_result"
    }
   ],
   "source": [
    "get_jobs_today(\"Data Scientist\",\"United States\")"
   ]
  },
  {
   "cell_type": "code",
   "execution_count": 14,
   "id": "b2750563",
   "metadata": {},
   "outputs": [],
   "source": [
    "functions = [\n",
    "    {\n",
    "        \"name\": \"get_current_weather\",\n",
    "        \"description\": \"Get the current weather in a given location\",\n",
    "        \"parameters\": {\n",
    "            \"type\": \"object\",\n",
    "            \"properties\": {\n",
    "                \"location\": {\n",
    "                    \"type\": \"string\",\n",
    "                    \"description\": \"The city and state, e.g. San Francisco, CA\",\n",
    "                },\n",
    "            },\n",
    "            \"required\": [\"location\"],\n",
    "        },\n",
    "    }\n",
    "]\n"
   ]
  },
  {
   "cell_type": "code",
   "execution_count": 63,
   "id": "f3c4fd6f",
   "metadata": {},
   "outputs": [],
   "source": [
    "user_message=\"What is the temperature of Clemson, SC, USA\"\n",
    "messages =[]\n",
    "messages.append({\"role\": \"user\", \"content\": user_message})\n",
    "\n",
    "completion=client.chat.completions.create(\n",
    "    model=\"gpt-3.5-turbo\",\n",
    "    messages=messages,\n",
    "    functions=functions\n",
    "    \n",
    ")"
   ]
  },
  {
   "cell_type": "code",
   "execution_count": 64,
   "id": "29f703cb",
   "metadata": {},
   "outputs": [
    {
     "data": {
      "text/plain": [
       "[{'role': 'user', 'content': 'What is the temperature of Clemson, SC, USA'}]"
      ]
     },
     "execution_count": 64,
     "metadata": {},
     "output_type": "execute_result"
    }
   ],
   "source": [
    "messages"
   ]
  },
  {
   "cell_type": "code",
   "execution_count": 65,
   "id": "5dff55b6",
   "metadata": {},
   "outputs": [
    {
     "data": {
      "text/plain": [
       "ChatCompletion(id='chatcmpl-BiZN2G0jvhjBtN7y8FTUWS98a7xrx', choices=[Choice(finish_reason='function_call', index=0, logprobs=None, message=ChatCompletionMessage(content=None, refusal=None, role='assistant', audio=None, function_call=FunctionCall(arguments='{\"location\":\"Clemson, SC, USA\"}', name='get_current_weather'), tool_calls=None, annotations=[]))], created=1749962096, model='gpt-3.5-turbo-0125', object='chat.completion', service_tier='default', system_fingerprint=None, usage=CompletionUsage(completion_tokens=21, prompt_tokens=73, total_tokens=94, completion_tokens_details=CompletionTokensDetails(accepted_prediction_tokens=0, audio_tokens=0, reasoning_tokens=0, rejected_prediction_tokens=0), prompt_tokens_details=PromptTokensDetails(audio_tokens=0, cached_tokens=0)))"
      ]
     },
     "execution_count": 65,
     "metadata": {},
     "output_type": "execute_result"
    }
   ],
   "source": [
    "completion"
   ]
  },
  {
   "cell_type": "code",
   "execution_count": 66,
   "id": "8e4fe4ff",
   "metadata": {},
   "outputs": [],
   "source": [
    "# import json\n",
    "# print(json.dumps(completion.choices[0].message.function_call, indent=2))\n"
   ]
  },
  {
   "cell_type": "code",
   "execution_count": null,
   "id": "741675d6",
   "metadata": {},
   "outputs": [],
   "source": []
  },
  {
   "cell_type": "code",
   "execution_count": 67,
   "id": "3aaf7e35",
   "metadata": {},
   "outputs": [
    {
     "data": {
      "text/plain": [
       "(FunctionCall(arguments='{\"location\":\"Clemson, SC, USA\"}', name='get_current_weather'),\n",
       " '{\"location\":\"Clemson, SC, USA\"}')"
      ]
     },
     "execution_count": 67,
     "metadata": {},
     "output_type": "execute_result"
    }
   ],
   "source": [
    "completion.choices[0].message.function_call,completion.choices[0].message.function_call.arguments"
   ]
  },
  {
   "cell_type": "code",
   "execution_count": 68,
   "id": "4a0750a5",
   "metadata": {},
   "outputs": [],
   "source": [
    "response = completion.choices[0].message\n",
    "# eval(response)"
   ]
  },
  {
   "cell_type": "code",
   "execution_count": 69,
   "id": "0a190852",
   "metadata": {},
   "outputs": [
    {
     "data": {
      "text/plain": [
       "[{'role': 'user', 'content': 'What is the temperature of Clemson, SC, USA'},\n",
       " ChatCompletionMessage(content=None, refusal=None, role='assistant', audio=None, function_call=FunctionCall(arguments='{\"location\":\"Clemson, SC, USA\"}', name='get_current_weather'), tool_calls=None, annotations=[])]"
      ]
     },
     "execution_count": 69,
     "metadata": {},
     "output_type": "execute_result"
    }
   ],
   "source": [
    "messages.append(response)\n",
    "messages"
   ]
  },
  {
   "cell_type": "code",
   "execution_count": 70,
   "id": "2f14c3a7",
   "metadata": {},
   "outputs": [
    {
     "data": {
      "text/plain": [
       "str"
      ]
     },
     "execution_count": 70,
     "metadata": {},
     "output_type": "execute_result"
    }
   ],
   "source": [
    "type(completion.choices[0].message.function_call.arguments)"
   ]
  },
  {
   "cell_type": "code",
   "execution_count": 71,
   "id": "0275a74a",
   "metadata": {},
   "outputs": [],
   "source": [
    "function_name = completion.choices[0].message.function_call.name\n",
    "location = eval(completion.choices[0].message.function_call.arguments)['location']"
   ]
  },
  {
   "cell_type": "code",
   "execution_count": 72,
   "id": "fcf51eb5",
   "metadata": {},
   "outputs": [
    {
     "data": {
      "text/plain": [
       "'Clemson, SC, USA'"
      ]
     },
     "execution_count": 72,
     "metadata": {},
     "output_type": "execute_result"
    }
   ],
   "source": [
    "location"
   ]
  },
  {
   "cell_type": "code",
   "execution_count": 73,
   "id": "87ddc307",
   "metadata": {},
   "outputs": [],
   "source": [
    "messages.append(\n",
    "    {\n",
    "        \"role\":\"function\",\n",
    "        \"name\":function_name,\n",
    "        \"content\":location\n",
    "    }\n",
    ")"
   ]
  },
  {
   "cell_type": "code",
   "execution_count": 74,
   "id": "bf500459",
   "metadata": {},
   "outputs": [
    {
     "data": {
      "text/plain": [
       "[{'role': 'user', 'content': 'What is the temperature of Clemson, SC, USA'},\n",
       " ChatCompletionMessage(content=None, refusal=None, role='assistant', audio=None, function_call=FunctionCall(arguments='{\"location\":\"Clemson, SC, USA\"}', name='get_current_weather'), tool_calls=None, annotations=[]),\n",
       " {'role': 'function',\n",
       "  'name': 'get_current_weather',\n",
       "  'content': 'Clemson, SC, USA'}]"
      ]
     },
     "execution_count": 74,
     "metadata": {},
     "output_type": "execute_result"
    }
   ],
   "source": [
    "messages"
   ]
  },
  {
   "cell_type": "code",
   "execution_count": 75,
   "id": "f6483bcb",
   "metadata": {},
   "outputs": [
    {
     "data": {
      "text/plain": [
       "ChatCompletionMessage(content='The current temperature in Clemson, SC, USA is 82°F.', refusal=None, role='assistant', audio=None, function_call=None, tool_calls=None, annotations=[])"
      ]
     },
     "execution_count": 75,
     "metadata": {},
     "output_type": "execute_result"
    }
   ],
   "source": [
    "completion2=client.chat.completions.create(\n",
    "    model=\"gpt-3.5-turbo\",\n",
    "    messages=messages,\n",
    "    functions=functions\n",
    "    \n",
    ")\n",
    "completion2.choices[0].message"
   ]
  },
  {
   "cell_type": "code",
   "execution_count": null,
   "id": "8f7a26ad",
   "metadata": {},
   "outputs": [],
   "source": []
  }
 ],
 "metadata": {
  "kernelspec": {
   "display_name": "openaidemo",
   "language": "python",
   "name": "python3"
  },
  "language_info": {
   "codemirror_mode": {
    "name": "ipython",
    "version": 3
   },
   "file_extension": ".py",
   "mimetype": "text/x-python",
   "name": "python",
   "nbconvert_exporter": "python",
   "pygments_lexer": "ipython3",
   "version": "3.10.6"
  }
 },
 "nbformat": 4,
 "nbformat_minor": 5
}
